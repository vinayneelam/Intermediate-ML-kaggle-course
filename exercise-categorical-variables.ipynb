{
 "cells": [
  {
   "cell_type": "markdown",
   "id": "4d8092e5",
   "metadata": {
    "papermill": {
     "duration": 0.030487,
     "end_time": "2021-10-26T03:09:54.786321",
     "exception": false,
     "start_time": "2021-10-26T03:09:54.755834",
     "status": "completed"
    },
    "tags": []
   },
   "source": [
    "**This notebook is an exercise in the [Intermediate Machine Learning](https://www.kaggle.com/learn/intermediate-machine-learning) course.  You can reference the tutorial at [this link](https://www.kaggle.com/alexisbcook/categorical-variables).**\n",
    "\n",
    "---\n"
   ]
  },
  {
   "cell_type": "markdown",
   "id": "425f82ee",
   "metadata": {
    "papermill": {
     "duration": 0.028857,
     "end_time": "2021-10-26T03:09:54.844663",
     "exception": false,
     "start_time": "2021-10-26T03:09:54.815806",
     "status": "completed"
    },
    "tags": []
   },
   "source": [
    "By encoding **categorical variables**, you'll obtain your best results thus far!\n",
    "\n",
    "# Setup\n",
    "\n",
    "The questions below will give you feedback on your work. Run the following cell to set up the feedback system."
   ]
  },
  {
   "cell_type": "code",
   "execution_count": 1,
   "id": "bcdc731f",
   "metadata": {
    "execution": {
     "iopub.execute_input": "2021-10-26T03:09:54.913226Z",
     "iopub.status.busy": "2021-10-26T03:09:54.912266Z",
     "iopub.status.idle": "2021-10-26T03:09:54.959790Z",
     "shell.execute_reply": "2021-10-26T03:09:54.958963Z",
     "shell.execute_reply.started": "2021-10-26T02:28:54.480420Z"
    },
    "papermill": {
     "duration": 0.086077,
     "end_time": "2021-10-26T03:09:54.959956",
     "exception": false,
     "start_time": "2021-10-26T03:09:54.873879",
     "status": "completed"
    },
    "tags": []
   },
   "outputs": [
    {
     "name": "stdout",
     "output_type": "stream",
     "text": [
      "Setup Complete\n"
     ]
    }
   ],
   "source": [
    "# Set up code checking\n",
    "import os\n",
    "if not os.path.exists(\"../input/train.csv\"):\n",
    "    os.symlink(\"../input/home-data-for-ml-course/train.csv\", \"../input/train.csv\")  \n",
    "    os.symlink(\"../input/home-data-for-ml-course/test.csv\", \"../input/test.csv\") \n",
    "from learntools.core import binder\n",
    "binder.bind(globals())\n",
    "from learntools.ml_intermediate.ex3 import *\n",
    "print(\"Setup Complete\")"
   ]
  },
  {
   "cell_type": "markdown",
   "id": "dd8e2d8a",
   "metadata": {
    "papermill": {
     "duration": 0.029271,
     "end_time": "2021-10-26T03:09:55.019164",
     "exception": false,
     "start_time": "2021-10-26T03:09:54.989893",
     "status": "completed"
    },
    "tags": []
   },
   "source": [
    "In this exercise, you will work with data from the [Housing Prices Competition for Kaggle Learn Users](https://www.kaggle.com/c/home-data-for-ml-course). \n",
    "\n",
    "![Ames Housing dataset image](https://i.imgur.com/lTJVG4e.png)\n",
    "\n",
    "Run the next code cell without changes to load the training and validation sets in `X_train`, `X_valid`, `y_train`, and `y_valid`.  The test set is loaded in `X_test`."
   ]
  },
  {
   "cell_type": "code",
   "execution_count": 2,
   "id": "12f9c328",
   "metadata": {
    "execution": {
     "iopub.execute_input": "2021-10-26T03:09:55.088432Z",
     "iopub.status.busy": "2021-10-26T03:09:55.087651Z",
     "iopub.status.idle": "2021-10-26T03:09:56.237986Z",
     "shell.execute_reply": "2021-10-26T03:09:56.237352Z",
     "shell.execute_reply.started": "2021-10-26T02:29:10.642022Z"
    },
    "papermill": {
     "duration": 1.188834,
     "end_time": "2021-10-26T03:09:56.238218",
     "exception": false,
     "start_time": "2021-10-26T03:09:55.049384",
     "status": "completed"
    },
    "tags": []
   },
   "outputs": [],
   "source": [
    "import pandas as pd\n",
    "from sklearn.model_selection import train_test_split\n",
    "\n",
    "# Read the data\n",
    "X = pd.read_csv('../input/train.csv', index_col='Id') \n",
    "X_test = pd.read_csv('../input/test.csv', index_col='Id')\n",
    "\n",
    "# Remove rows with missing target, separate target from predictors\n",
    "X.dropna(axis=0, subset=['SalePrice'], inplace=True)\n",
    "y = X.SalePrice\n",
    "X.drop(['SalePrice'], axis=1, inplace=True)\n",
    "\n",
    "# To keep things simple, we'll drop columns with missing values\n",
    "cols_with_missing = [col for col in X.columns if X[col].isnull().any()] \n",
    "X.drop(cols_with_missing, axis=1, inplace=True)\n",
    "X_test.drop(cols_with_missing, axis=1, inplace=True)\n",
    "\n",
    "# Break off validation set from training data\n",
    "X_train, X_valid, y_train, y_valid = train_test_split(X, y,\n",
    "                                                      train_size=0.8, test_size=0.2,\n",
    "                                                      random_state=0)"
   ]
  },
  {
   "cell_type": "markdown",
   "id": "fb8b2086",
   "metadata": {
    "papermill": {
     "duration": 0.029204,
     "end_time": "2021-10-26T03:09:56.297848",
     "exception": false,
     "start_time": "2021-10-26T03:09:56.268644",
     "status": "completed"
    },
    "tags": []
   },
   "source": [
    "Use the next code cell to print the first five rows of the data."
   ]
  },
  {
   "cell_type": "code",
   "execution_count": 3,
   "id": "6f9d4f56",
   "metadata": {
    "execution": {
     "iopub.execute_input": "2021-10-26T03:09:56.366261Z",
     "iopub.status.busy": "2021-10-26T03:09:56.365557Z",
     "iopub.status.idle": "2021-10-26T03:09:56.388347Z",
     "shell.execute_reply": "2021-10-26T03:09:56.388866Z",
     "shell.execute_reply.started": "2021-10-26T02:30:33.832361Z"
    },
    "papermill": {
     "duration": 0.061658,
     "end_time": "2021-10-26T03:09:56.389039",
     "exception": false,
     "start_time": "2021-10-26T03:09:56.327381",
     "status": "completed"
    },
    "tags": []
   },
   "outputs": [
    {
     "data": {
      "text/html": [
       "<div>\n",
       "<style scoped>\n",
       "    .dataframe tbody tr th:only-of-type {\n",
       "        vertical-align: middle;\n",
       "    }\n",
       "\n",
       "    .dataframe tbody tr th {\n",
       "        vertical-align: top;\n",
       "    }\n",
       "\n",
       "    .dataframe thead th {\n",
       "        text-align: right;\n",
       "    }\n",
       "</style>\n",
       "<table border=\"1\" class=\"dataframe\">\n",
       "  <thead>\n",
       "    <tr style=\"text-align: right;\">\n",
       "      <th></th>\n",
       "      <th>MSSubClass</th>\n",
       "      <th>MSZoning</th>\n",
       "      <th>LotArea</th>\n",
       "      <th>Street</th>\n",
       "      <th>LotShape</th>\n",
       "      <th>LandContour</th>\n",
       "      <th>Utilities</th>\n",
       "      <th>LotConfig</th>\n",
       "      <th>LandSlope</th>\n",
       "      <th>Neighborhood</th>\n",
       "      <th>...</th>\n",
       "      <th>OpenPorchSF</th>\n",
       "      <th>EnclosedPorch</th>\n",
       "      <th>3SsnPorch</th>\n",
       "      <th>ScreenPorch</th>\n",
       "      <th>PoolArea</th>\n",
       "      <th>MiscVal</th>\n",
       "      <th>MoSold</th>\n",
       "      <th>YrSold</th>\n",
       "      <th>SaleType</th>\n",
       "      <th>SaleCondition</th>\n",
       "    </tr>\n",
       "    <tr>\n",
       "      <th>Id</th>\n",
       "      <th></th>\n",
       "      <th></th>\n",
       "      <th></th>\n",
       "      <th></th>\n",
       "      <th></th>\n",
       "      <th></th>\n",
       "      <th></th>\n",
       "      <th></th>\n",
       "      <th></th>\n",
       "      <th></th>\n",
       "      <th></th>\n",
       "      <th></th>\n",
       "      <th></th>\n",
       "      <th></th>\n",
       "      <th></th>\n",
       "      <th></th>\n",
       "      <th></th>\n",
       "      <th></th>\n",
       "      <th></th>\n",
       "      <th></th>\n",
       "      <th></th>\n",
       "    </tr>\n",
       "  </thead>\n",
       "  <tbody>\n",
       "    <tr>\n",
       "      <th>619</th>\n",
       "      <td>20</td>\n",
       "      <td>RL</td>\n",
       "      <td>11694</td>\n",
       "      <td>Pave</td>\n",
       "      <td>Reg</td>\n",
       "      <td>Lvl</td>\n",
       "      <td>AllPub</td>\n",
       "      <td>Inside</td>\n",
       "      <td>Gtl</td>\n",
       "      <td>NridgHt</td>\n",
       "      <td>...</td>\n",
       "      <td>108</td>\n",
       "      <td>0</td>\n",
       "      <td>0</td>\n",
       "      <td>260</td>\n",
       "      <td>0</td>\n",
       "      <td>0</td>\n",
       "      <td>7</td>\n",
       "      <td>2007</td>\n",
       "      <td>New</td>\n",
       "      <td>Partial</td>\n",
       "    </tr>\n",
       "    <tr>\n",
       "      <th>871</th>\n",
       "      <td>20</td>\n",
       "      <td>RL</td>\n",
       "      <td>6600</td>\n",
       "      <td>Pave</td>\n",
       "      <td>Reg</td>\n",
       "      <td>Lvl</td>\n",
       "      <td>AllPub</td>\n",
       "      <td>Inside</td>\n",
       "      <td>Gtl</td>\n",
       "      <td>NAmes</td>\n",
       "      <td>...</td>\n",
       "      <td>0</td>\n",
       "      <td>0</td>\n",
       "      <td>0</td>\n",
       "      <td>0</td>\n",
       "      <td>0</td>\n",
       "      <td>0</td>\n",
       "      <td>8</td>\n",
       "      <td>2009</td>\n",
       "      <td>WD</td>\n",
       "      <td>Normal</td>\n",
       "    </tr>\n",
       "    <tr>\n",
       "      <th>93</th>\n",
       "      <td>30</td>\n",
       "      <td>RL</td>\n",
       "      <td>13360</td>\n",
       "      <td>Pave</td>\n",
       "      <td>IR1</td>\n",
       "      <td>HLS</td>\n",
       "      <td>AllPub</td>\n",
       "      <td>Inside</td>\n",
       "      <td>Gtl</td>\n",
       "      <td>Crawfor</td>\n",
       "      <td>...</td>\n",
       "      <td>0</td>\n",
       "      <td>44</td>\n",
       "      <td>0</td>\n",
       "      <td>0</td>\n",
       "      <td>0</td>\n",
       "      <td>0</td>\n",
       "      <td>8</td>\n",
       "      <td>2009</td>\n",
       "      <td>WD</td>\n",
       "      <td>Normal</td>\n",
       "    </tr>\n",
       "    <tr>\n",
       "      <th>818</th>\n",
       "      <td>20</td>\n",
       "      <td>RL</td>\n",
       "      <td>13265</td>\n",
       "      <td>Pave</td>\n",
       "      <td>IR1</td>\n",
       "      <td>Lvl</td>\n",
       "      <td>AllPub</td>\n",
       "      <td>CulDSac</td>\n",
       "      <td>Gtl</td>\n",
       "      <td>Mitchel</td>\n",
       "      <td>...</td>\n",
       "      <td>59</td>\n",
       "      <td>0</td>\n",
       "      <td>0</td>\n",
       "      <td>0</td>\n",
       "      <td>0</td>\n",
       "      <td>0</td>\n",
       "      <td>7</td>\n",
       "      <td>2008</td>\n",
       "      <td>WD</td>\n",
       "      <td>Normal</td>\n",
       "    </tr>\n",
       "    <tr>\n",
       "      <th>303</th>\n",
       "      <td>20</td>\n",
       "      <td>RL</td>\n",
       "      <td>13704</td>\n",
       "      <td>Pave</td>\n",
       "      <td>IR1</td>\n",
       "      <td>Lvl</td>\n",
       "      <td>AllPub</td>\n",
       "      <td>Corner</td>\n",
       "      <td>Gtl</td>\n",
       "      <td>CollgCr</td>\n",
       "      <td>...</td>\n",
       "      <td>81</td>\n",
       "      <td>0</td>\n",
       "      <td>0</td>\n",
       "      <td>0</td>\n",
       "      <td>0</td>\n",
       "      <td>0</td>\n",
       "      <td>1</td>\n",
       "      <td>2006</td>\n",
       "      <td>WD</td>\n",
       "      <td>Normal</td>\n",
       "    </tr>\n",
       "  </tbody>\n",
       "</table>\n",
       "<p>5 rows × 60 columns</p>\n",
       "</div>"
      ],
      "text/plain": [
       "     MSSubClass MSZoning  LotArea Street LotShape LandContour Utilities  \\\n",
       "Id                                                                        \n",
       "619          20       RL    11694   Pave      Reg         Lvl    AllPub   \n",
       "871          20       RL     6600   Pave      Reg         Lvl    AllPub   \n",
       "93           30       RL    13360   Pave      IR1         HLS    AllPub   \n",
       "818          20       RL    13265   Pave      IR1         Lvl    AllPub   \n",
       "303          20       RL    13704   Pave      IR1         Lvl    AllPub   \n",
       "\n",
       "    LotConfig LandSlope Neighborhood  ... OpenPorchSF EnclosedPorch 3SsnPorch  \\\n",
       "Id                                    ...                                       \n",
       "619    Inside       Gtl      NridgHt  ...         108             0         0   \n",
       "871    Inside       Gtl        NAmes  ...           0             0         0   \n",
       "93     Inside       Gtl      Crawfor  ...           0            44         0   \n",
       "818   CulDSac       Gtl      Mitchel  ...          59             0         0   \n",
       "303    Corner       Gtl      CollgCr  ...          81             0         0   \n",
       "\n",
       "    ScreenPorch  PoolArea  MiscVal  MoSold  YrSold SaleType SaleCondition  \n",
       "Id                                                                         \n",
       "619         260         0        0       7    2007      New       Partial  \n",
       "871           0         0        0       8    2009       WD        Normal  \n",
       "93            0         0        0       8    2009       WD        Normal  \n",
       "818           0         0        0       7    2008       WD        Normal  \n",
       "303           0         0        0       1    2006       WD        Normal  \n",
       "\n",
       "[5 rows x 60 columns]"
      ]
     },
     "execution_count": 3,
     "metadata": {},
     "output_type": "execute_result"
    }
   ],
   "source": [
    "X_train.head()"
   ]
  },
  {
   "cell_type": "markdown",
   "id": "c6a9086a",
   "metadata": {
    "papermill": {
     "duration": 0.02958,
     "end_time": "2021-10-26T03:09:56.448744",
     "exception": false,
     "start_time": "2021-10-26T03:09:56.419164",
     "status": "completed"
    },
    "tags": []
   },
   "source": [
    "Notice that the dataset contains both numerical and categorical variables.  You'll need to encode the categorical data before training a model.\n",
    "\n",
    "To compare different models, you'll use the same `score_dataset()` function from the tutorial.  This function reports the [mean absolute error](https://en.wikipedia.org/wiki/Mean_absolute_error) (MAE) from a random forest model."
   ]
  },
  {
   "cell_type": "code",
   "execution_count": 4,
   "id": "74de418b",
   "metadata": {
    "execution": {
     "iopub.execute_input": "2021-10-26T03:09:56.512351Z",
     "iopub.status.busy": "2021-10-26T03:09:56.511641Z",
     "iopub.status.idle": "2021-10-26T03:09:56.815691Z",
     "shell.execute_reply": "2021-10-26T03:09:56.814866Z",
     "shell.execute_reply.started": "2021-10-26T02:30:58.419389Z"
    },
    "papermill": {
     "duration": 0.337181,
     "end_time": "2021-10-26T03:09:56.815866",
     "exception": false,
     "start_time": "2021-10-26T03:09:56.478685",
     "status": "completed"
    },
    "tags": []
   },
   "outputs": [],
   "source": [
    "from sklearn.ensemble import RandomForestRegressor\n",
    "from sklearn.metrics import mean_absolute_error\n",
    "\n",
    "# function for comparing different approaches\n",
    "def score_dataset(X_train, X_valid, y_train, y_valid):\n",
    "    model = RandomForestRegressor(n_estimators=100, random_state=0)\n",
    "    model.fit(X_train, y_train)\n",
    "    preds = model.predict(X_valid)\n",
    "    return mean_absolute_error(y_valid, preds)"
   ]
  },
  {
   "cell_type": "markdown",
   "id": "a5c33968",
   "metadata": {
    "papermill": {
     "duration": 0.029807,
     "end_time": "2021-10-26T03:09:56.875915",
     "exception": false,
     "start_time": "2021-10-26T03:09:56.846108",
     "status": "completed"
    },
    "tags": []
   },
   "source": [
    "# Step 1: Drop columns with categorical data\n",
    "\n",
    "You'll get started with the most straightforward approach.  Use the code cell below to preprocess the data in `X_train` and `X_valid` to remove columns with categorical data.  Set the preprocessed DataFrames to `drop_X_train` and `drop_X_valid`, respectively.  "
   ]
  },
  {
   "cell_type": "code",
   "execution_count": 5,
   "id": "f09029bd",
   "metadata": {
    "execution": {
     "iopub.execute_input": "2021-10-26T03:09:56.942243Z",
     "iopub.status.busy": "2021-10-26T03:09:56.941561Z",
     "iopub.status.idle": "2021-10-26T03:09:56.951000Z",
     "shell.execute_reply": "2021-10-26T03:09:56.951603Z",
     "shell.execute_reply.started": "2021-10-26T02:33:23.611950Z"
    },
    "papermill": {
     "duration": 0.045407,
     "end_time": "2021-10-26T03:09:56.951769",
     "exception": false,
     "start_time": "2021-10-26T03:09:56.906362",
     "status": "completed"
    },
    "tags": []
   },
   "outputs": [
    {
     "data": {
      "application/javascript": [
       "parent.postMessage({\"jupyterEvent\": \"custom.exercise_interaction\", \"data\": {\"outcomeType\": 1, \"valueTowardsCompletion\": 0.5, \"interactionType\": 1, \"questionType\": 2, \"questionId\": \"1_Drop\", \"learnToolsVersion\": \"0.3.4\", \"failureMessage\": \"\", \"exceptionClass\": \"\", \"trace\": \"\"}}, \"*\")"
      ],
      "text/plain": [
       "<IPython.core.display.Javascript object>"
      ]
     },
     "metadata": {},
     "output_type": "display_data"
    },
    {
     "data": {
      "text/markdown": [
       "<span style=\"color:#33cc33\">Correct</span>"
      ],
      "text/plain": [
       "Correct"
      ]
     },
     "metadata": {},
     "output_type": "display_data"
    }
   ],
   "source": [
    "# Fill in the lines below: drop columns in training and validation data\n",
    "drop_X_train = X_train.select_dtypes(exclude = ['object'])\n",
    "drop_X_valid = X_valid.select_dtypes(exclude = ['object'])\n",
    "\n",
    "# Check your answers\n",
    "step_1.check()"
   ]
  },
  {
   "cell_type": "code",
   "execution_count": 6,
   "id": "122775c9",
   "metadata": {
    "execution": {
     "iopub.execute_input": "2021-10-26T03:09:57.017091Z",
     "iopub.status.busy": "2021-10-26T03:09:57.016491Z",
     "iopub.status.idle": "2021-10-26T03:09:57.019353Z",
     "shell.execute_reply": "2021-10-26T03:09:57.019900Z"
    },
    "papermill": {
     "duration": 0.037106,
     "end_time": "2021-10-26T03:09:57.020059",
     "exception": false,
     "start_time": "2021-10-26T03:09:56.982953",
     "status": "completed"
    },
    "tags": []
   },
   "outputs": [],
   "source": [
    "# Lines below will give you a hint or solution code\n",
    "#step_1.hint()\n",
    "#step_1.solution()"
   ]
  },
  {
   "cell_type": "markdown",
   "id": "ed05f34e",
   "metadata": {
    "papermill": {
     "duration": 0.030767,
     "end_time": "2021-10-26T03:09:57.083854",
     "exception": false,
     "start_time": "2021-10-26T03:09:57.053087",
     "status": "completed"
    },
    "tags": []
   },
   "source": [
    "Run the next code cell to get the MAE for this approach."
   ]
  },
  {
   "cell_type": "code",
   "execution_count": 7,
   "id": "ec4c3e5b",
   "metadata": {
    "execution": {
     "iopub.execute_input": "2021-10-26T03:09:57.149707Z",
     "iopub.status.busy": "2021-10-26T03:09:57.148953Z",
     "iopub.status.idle": "2021-10-26T03:09:58.396056Z",
     "shell.execute_reply": "2021-10-26T03:09:58.395469Z",
     "shell.execute_reply.started": "2021-10-26T02:33:34.844864Z"
    },
    "papermill": {
     "duration": 1.280897,
     "end_time": "2021-10-26T03:09:58.396264",
     "exception": false,
     "start_time": "2021-10-26T03:09:57.115367",
     "status": "completed"
    },
    "tags": []
   },
   "outputs": [
    {
     "name": "stdout",
     "output_type": "stream",
     "text": [
      "MAE from Approach 1 (Drop categorical variables):\n",
      "17837.82570776256\n"
     ]
    }
   ],
   "source": [
    "print(\"MAE from Approach 1 (Drop categorical variables):\")\n",
    "print(score_dataset(drop_X_train, drop_X_valid, y_train, y_valid))"
   ]
  },
  {
   "cell_type": "markdown",
   "id": "989fbedc",
   "metadata": {
    "papermill": {
     "duration": 0.031879,
     "end_time": "2021-10-26T03:09:58.460519",
     "exception": false,
     "start_time": "2021-10-26T03:09:58.428640",
     "status": "completed"
    },
    "tags": []
   },
   "source": [
    "Before jumping into ordinal encoding, we'll investigate the dataset.  Specifically, we'll look at the `'Condition2'` column.  The code cell below prints the unique entries in both the training and validation sets."
   ]
  },
  {
   "cell_type": "code",
   "execution_count": 8,
   "id": "7b0bcb47",
   "metadata": {
    "execution": {
     "iopub.execute_input": "2021-10-26T03:09:58.529775Z",
     "iopub.status.busy": "2021-10-26T03:09:58.528070Z",
     "iopub.status.idle": "2021-10-26T03:09:58.535893Z",
     "shell.execute_reply": "2021-10-26T03:09:58.535010Z",
     "shell.execute_reply.started": "2021-10-26T02:34:00.962875Z"
    },
    "papermill": {
     "duration": 0.043567,
     "end_time": "2021-10-26T03:09:58.536078",
     "exception": false,
     "start_time": "2021-10-26T03:09:58.492511",
     "status": "completed"
    },
    "tags": []
   },
   "outputs": [
    {
     "name": "stdout",
     "output_type": "stream",
     "text": [
      "Unique values in 'Condition2' column in training data: ['Norm' 'PosA' 'Feedr' 'PosN' 'Artery' 'RRAe']\n",
      "\n",
      "Unique values in 'Condition2' column in validation data: ['Norm' 'RRAn' 'RRNn' 'Artery' 'Feedr' 'PosN']\n"
     ]
    }
   ],
   "source": [
    "print(\"Unique values in 'Condition2' column in training data:\", X_train['Condition2'].unique())\n",
    "print(\"\\nUnique values in 'Condition2' column in validation data:\", X_valid['Condition2'].unique())"
   ]
  },
  {
   "cell_type": "markdown",
   "id": "b310a312",
   "metadata": {
    "papermill": {
     "duration": 0.031894,
     "end_time": "2021-10-26T03:09:58.600812",
     "exception": false,
     "start_time": "2021-10-26T03:09:58.568918",
     "status": "completed"
    },
    "tags": []
   },
   "source": [
    "# Step 2: Ordinal encoding\n",
    "\n",
    "### Part A\n",
    "\n",
    "If you now write code to: \n",
    "- fit an ordinal encoder to the training data, and then \n",
    "- use it to transform both the training and validation data, \n",
    "\n",
    "you'll get an error.  Can you see why this is the case?  (_You'll need  to use the above output to answer this question._)"
   ]
  },
  {
   "cell_type": "markdown",
   "id": "bd869f38",
   "metadata": {
    "papermill": {
     "duration": 0.031643,
     "end_time": "2021-10-26T03:09:58.664441",
     "exception": false,
     "start_time": "2021-10-26T03:09:58.632798",
     "status": "completed"
    },
    "tags": []
   },
   "source": []
  },
  {
   "cell_type": "code",
   "execution_count": 9,
   "id": "9365d735",
   "metadata": {
    "execution": {
     "iopub.execute_input": "2021-10-26T03:09:58.734786Z",
     "iopub.status.busy": "2021-10-26T03:09:58.733865Z",
     "iopub.status.idle": "2021-10-26T03:09:58.739134Z",
     "shell.execute_reply": "2021-10-26T03:09:58.739644Z",
     "shell.execute_reply.started": "2021-10-26T02:36:06.258207Z"
    },
    "papermill": {
     "duration": 0.043555,
     "end_time": "2021-10-26T03:09:58.739814",
     "exception": false,
     "start_time": "2021-10-26T03:09:58.696259",
     "status": "completed"
    },
    "tags": []
   },
   "outputs": [
    {
     "data": {
      "application/javascript": [
       "parent.postMessage({\"jupyterEvent\": \"custom.exercise_interaction\", \"data\": {\"outcomeType\": 1, \"valueTowardsCompletion\": 0.5, \"interactionType\": 1, \"questionType\": 4, \"questionId\": \"2.1_LabelA\", \"learnToolsVersion\": \"0.3.4\", \"failureMessage\": \"\", \"exceptionClass\": \"\", \"trace\": \"\"}}, \"*\")"
      ],
      "text/plain": [
       "<IPython.core.display.Javascript object>"
      ]
     },
     "metadata": {},
     "output_type": "display_data"
    },
    {
     "data": {
      "text/markdown": [
       "<span style=\"color:#33cc33\">Correct:</span> \n",
       "\n",
       "Fitting an ordinal encoder to a column in the training data creates a corresponding integer-valued label for each unique value **that appears in the training data**. In the case that the validation data contains values that don't also appear in the training data, the encoder will throw an error, because these values won't have an integer assigned to them.  Notice that the `'Condition2'` column in the validation data contains the values `'RRAn'` and `'RRNn'`, but these don't appear in the training data -- thus, if we try to use an ordinal encoder with scikit-learn, the code will throw an error."
      ],
      "text/plain": [
       "Correct: \n",
       "\n",
       "Fitting an ordinal encoder to a column in the training data creates a corresponding integer-valued label for each unique value **that appears in the training data**. In the case that the validation data contains values that don't also appear in the training data, the encoder will throw an error, because these values won't have an integer assigned to them.  Notice that the `'Condition2'` column in the validation data contains the values `'RRAn'` and `'RRNn'`, but these don't appear in the training data -- thus, if we try to use an ordinal encoder with scikit-learn, the code will throw an error."
      ]
     },
     "metadata": {},
     "output_type": "display_data"
    }
   ],
   "source": [
    "# Check your answer (Run this code cell to receive credit!)\n",
    "step_2.a.check()"
   ]
  },
  {
   "cell_type": "code",
   "execution_count": 10,
   "id": "e5cf63b0",
   "metadata": {
    "execution": {
     "iopub.execute_input": "2021-10-26T03:09:58.810788Z",
     "iopub.status.busy": "2021-10-26T03:09:58.809960Z",
     "iopub.status.idle": "2021-10-26T03:09:58.812578Z",
     "shell.execute_reply": "2021-10-26T03:09:58.811965Z"
    },
    "papermill": {
     "duration": 0.039734,
     "end_time": "2021-10-26T03:09:58.812727",
     "exception": false,
     "start_time": "2021-10-26T03:09:58.772993",
     "status": "completed"
    },
    "tags": []
   },
   "outputs": [],
   "source": [
    "#step_2.a.hint()"
   ]
  },
  {
   "cell_type": "markdown",
   "id": "030f52f4",
   "metadata": {
    "papermill": {
     "duration": 0.033094,
     "end_time": "2021-10-26T03:09:58.879540",
     "exception": false,
     "start_time": "2021-10-26T03:09:58.846446",
     "status": "completed"
    },
    "tags": []
   },
   "source": [
    "This is a common problem that you'll encounter with real-world data, and there are many approaches to fixing this issue.  For instance, you can write a custom ordinal encoder to deal with new categories.  The simplest approach, however, is to drop the problematic categorical columns.  \n",
    "\n",
    "Run the code cell below to save the problematic columns to a Python list `bad_label_cols`.  Likewise, columns that can be safely ordinal encoded are stored in `good_label_cols`."
   ]
  },
  {
   "cell_type": "code",
   "execution_count": 11,
   "id": "c90593f2",
   "metadata": {
    "execution": {
     "iopub.execute_input": "2021-10-26T03:09:58.963832Z",
     "iopub.status.busy": "2021-10-26T03:09:58.963049Z",
     "iopub.status.idle": "2021-10-26T03:09:58.968844Z",
     "shell.execute_reply": "2021-10-26T03:09:58.969396Z",
     "shell.execute_reply.started": "2021-10-26T02:37:43.954491Z"
    },
    "papermill": {
     "duration": 0.054258,
     "end_time": "2021-10-26T03:09:58.969583",
     "exception": false,
     "start_time": "2021-10-26T03:09:58.915325",
     "status": "completed"
    },
    "tags": []
   },
   "outputs": [
    {
     "name": "stdout",
     "output_type": "stream",
     "text": [
      "Categorical columns that will be ordinal encoded: ['MSZoning', 'Street', 'LotShape', 'LandContour', 'Utilities', 'LotConfig', 'LandSlope', 'Neighborhood', 'Condition1', 'BldgType', 'HouseStyle', 'RoofStyle', 'Exterior1st', 'Exterior2nd', 'ExterQual', 'ExterCond', 'Foundation', 'Heating', 'HeatingQC', 'CentralAir', 'KitchenQual', 'PavedDrive', 'SaleType', 'SaleCondition']\n",
      "\n",
      "Categorical columns that will be dropped from the dataset: ['Condition2', 'Functional', 'RoofMatl']\n"
     ]
    }
   ],
   "source": [
    "# Categorical columns in the training data\n",
    "object_cols = [col for col in X_train.columns if X_train[col].dtype == \"object\"]\n",
    "\n",
    "# Columns that can be safely ordinal encoded\n",
    "good_label_cols = [col for col in object_cols if \n",
    "                   set(X_valid[col]).issubset(set(X_train[col]))]\n",
    "        \n",
    "# Problematic columns that will be dropped from the dataset\n",
    "bad_label_cols = list(set(object_cols)-set(good_label_cols))\n",
    "        \n",
    "print('Categorical columns that will be ordinal encoded:', good_label_cols)\n",
    "print('\\nCategorical columns that will be dropped from the dataset:', bad_label_cols)"
   ]
  },
  {
   "cell_type": "markdown",
   "id": "9390d1af",
   "metadata": {
    "papermill": {
     "duration": 0.033825,
     "end_time": "2021-10-26T03:09:59.037502",
     "exception": false,
     "start_time": "2021-10-26T03:09:59.003677",
     "status": "completed"
    },
    "tags": []
   },
   "source": [
    "### Part B\n",
    "\n",
    "Use the next code cell to ordinal encode the data in `X_train` and `X_valid`.  Set the preprocessed DataFrames to `label_X_train` and `label_X_valid`, respectively.  \n",
    "- We have provided code below to drop the categorical columns in `bad_label_cols` from the dataset. \n",
    "- You should ordinal encode the categorical columns in `good_label_cols`.  "
   ]
  },
  {
   "cell_type": "code",
   "execution_count": 12,
   "id": "7dd471fc",
   "metadata": {
    "execution": {
     "iopub.execute_input": "2021-10-26T03:09:59.108543Z",
     "iopub.status.busy": "2021-10-26T03:09:59.107857Z",
     "iopub.status.idle": "2021-10-26T03:09:59.159510Z",
     "shell.execute_reply": "2021-10-26T03:09:59.160016Z",
     "shell.execute_reply.started": "2021-10-26T02:44:48.733154Z"
    },
    "papermill": {
     "duration": 0.088682,
     "end_time": "2021-10-26T03:09:59.160214",
     "exception": false,
     "start_time": "2021-10-26T03:09:59.071532",
     "status": "completed"
    },
    "tags": []
   },
   "outputs": [
    {
     "data": {
      "application/javascript": [
       "parent.postMessage({\"jupyterEvent\": \"custom.exercise_interaction\", \"data\": {\"outcomeType\": 1, \"valueTowardsCompletion\": 0.5, \"interactionType\": 1, \"questionType\": 2, \"questionId\": \"2.2_LabelB\", \"learnToolsVersion\": \"0.3.4\", \"failureMessage\": \"\", \"exceptionClass\": \"\", \"trace\": \"\"}}, \"*\")"
      ],
      "text/plain": [
       "<IPython.core.display.Javascript object>"
      ]
     },
     "metadata": {},
     "output_type": "display_data"
    },
    {
     "data": {
      "text/markdown": [
       "<span style=\"color:#33cc33\">Correct</span>"
      ],
      "text/plain": [
       "Correct"
      ]
     },
     "metadata": {},
     "output_type": "display_data"
    }
   ],
   "source": [
    "from sklearn.preprocessing import OrdinalEncoder\n",
    "\n",
    "# Drop categorical columns that will not be encoded\n",
    "label_X_train = X_train.drop(bad_label_cols, axis=1)\n",
    "label_X_valid = X_valid.drop(bad_label_cols, axis=1)\n",
    "\n",
    "# Apply ordinal encoder \n",
    "label_X_train = label_X_train.copy()\n",
    "label_X_valid = label_X_valid.copy()\n",
    "\n",
    "enc= OrdinalEncoder()\n",
    "label_X_train[good_label_cols] = enc.fit_transform(X_train[good_label_cols])\n",
    "label_X_valid[good_label_cols] = enc.transform(X_valid[good_label_cols])\n",
    "\n",
    "    \n",
    "# Check your answer\n",
    "step_2.b.check()"
   ]
  },
  {
   "cell_type": "code",
   "execution_count": 13,
   "id": "6df909a4",
   "metadata": {
    "execution": {
     "iopub.execute_input": "2021-10-26T03:09:59.234067Z",
     "iopub.status.busy": "2021-10-26T03:09:59.233409Z",
     "iopub.status.idle": "2021-10-26T03:09:59.235042Z",
     "shell.execute_reply": "2021-10-26T03:09:59.235500Z"
    },
    "papermill": {
     "duration": 0.04089,
     "end_time": "2021-10-26T03:09:59.235677",
     "exception": false,
     "start_time": "2021-10-26T03:09:59.194787",
     "status": "completed"
    },
    "tags": []
   },
   "outputs": [],
   "source": [
    "# Lines below will give you a hint or solution code\n",
    "#step_2.b.hint()\n",
    "#step_2.b.solution()"
   ]
  },
  {
   "cell_type": "markdown",
   "id": "58f44976",
   "metadata": {
    "papermill": {
     "duration": 0.034819,
     "end_time": "2021-10-26T03:09:59.305258",
     "exception": false,
     "start_time": "2021-10-26T03:09:59.270439",
     "status": "completed"
    },
    "tags": []
   },
   "source": [
    "Run the next code cell to get the MAE for this approach."
   ]
  },
  {
   "cell_type": "code",
   "execution_count": 14,
   "id": "788ac430",
   "metadata": {
    "execution": {
     "iopub.execute_input": "2021-10-26T03:09:59.378391Z",
     "iopub.status.busy": "2021-10-26T03:09:59.377738Z",
     "iopub.status.idle": "2021-10-26T03:10:00.987452Z",
     "shell.execute_reply": "2021-10-26T03:10:00.986906Z",
     "shell.execute_reply.started": "2021-10-26T02:45:01.152192Z"
    },
    "papermill": {
     "duration": 1.647357,
     "end_time": "2021-10-26T03:10:00.987600",
     "exception": false,
     "start_time": "2021-10-26T03:09:59.340243",
     "status": "completed"
    },
    "tags": []
   },
   "outputs": [
    {
     "name": "stdout",
     "output_type": "stream",
     "text": [
      "MAE from Approach 2 (Ordinal Encoding):\n",
      "17098.01649543379\n"
     ]
    }
   ],
   "source": [
    "print(\"MAE from Approach 2 (Ordinal Encoding):\") \n",
    "print(score_dataset(label_X_train, label_X_valid, y_train, y_valid))"
   ]
  },
  {
   "cell_type": "markdown",
   "id": "10385840",
   "metadata": {
    "papermill": {
     "duration": 0.035308,
     "end_time": "2021-10-26T03:10:01.058241",
     "exception": false,
     "start_time": "2021-10-26T03:10:01.022933",
     "status": "completed"
    },
    "tags": []
   },
   "source": [
    "So far, you've tried two different approaches to dealing with categorical variables.  And, you've seen that encoding categorical data yields better results than removing columns from the dataset.\n",
    "\n",
    "Soon, you'll try one-hot encoding.  Before then, there's one additional topic we need to cover.  Begin by running the next code cell without changes.  "
   ]
  },
  {
   "cell_type": "code",
   "execution_count": 15,
   "id": "9197ba08",
   "metadata": {
    "execution": {
     "iopub.execute_input": "2021-10-26T03:10:01.194034Z",
     "iopub.status.busy": "2021-10-26T03:10:01.193005Z",
     "iopub.status.idle": "2021-10-26T03:10:01.206752Z",
     "shell.execute_reply": "2021-10-26T03:10:01.207333Z",
     "shell.execute_reply.started": "2021-10-26T02:45:33.706726Z"
    },
    "papermill": {
     "duration": 0.113836,
     "end_time": "2021-10-26T03:10:01.207511",
     "exception": false,
     "start_time": "2021-10-26T03:10:01.093675",
     "status": "completed"
    },
    "tags": []
   },
   "outputs": [
    {
     "data": {
      "text/plain": [
       "[('Street', 2),\n",
       " ('Utilities', 2),\n",
       " ('CentralAir', 2),\n",
       " ('LandSlope', 3),\n",
       " ('PavedDrive', 3),\n",
       " ('LotShape', 4),\n",
       " ('LandContour', 4),\n",
       " ('ExterQual', 4),\n",
       " ('KitchenQual', 4),\n",
       " ('MSZoning', 5),\n",
       " ('LotConfig', 5),\n",
       " ('BldgType', 5),\n",
       " ('ExterCond', 5),\n",
       " ('HeatingQC', 5),\n",
       " ('Condition2', 6),\n",
       " ('RoofStyle', 6),\n",
       " ('Foundation', 6),\n",
       " ('Heating', 6),\n",
       " ('Functional', 6),\n",
       " ('SaleCondition', 6),\n",
       " ('RoofMatl', 7),\n",
       " ('HouseStyle', 8),\n",
       " ('Condition1', 9),\n",
       " ('SaleType', 9),\n",
       " ('Exterior1st', 15),\n",
       " ('Exterior2nd', 16),\n",
       " ('Neighborhood', 25)]"
      ]
     },
     "execution_count": 15,
     "metadata": {},
     "output_type": "execute_result"
    }
   ],
   "source": [
    "# Get number of unique entries in each column with categorical data\n",
    "object_nunique = list(map(lambda col: X_train[col].nunique(), object_cols))\n",
    "d = dict(zip(object_cols, object_nunique))\n",
    "\n",
    "# Print number of unique entries by column, in ascending order\n",
    "sorted(d.items(), key=lambda x: x[1])"
   ]
  },
  {
   "cell_type": "markdown",
   "id": "5913f5a1",
   "metadata": {
    "papermill": {
     "duration": 0.035863,
     "end_time": "2021-10-26T03:10:01.279860",
     "exception": false,
     "start_time": "2021-10-26T03:10:01.243997",
     "status": "completed"
    },
    "tags": []
   },
   "source": [
    "# Step 3: Investigating cardinality\n",
    "\n",
    "### Part A\n",
    "\n",
    "The output above shows, for each column with categorical data, the number of unique values in the column.  For instance, the `'Street'` column in the training data has two unique values: `'Grvl'` and `'Pave'`, corresponding to a gravel road and a paved road, respectively.\n",
    "\n",
    "We refer to the number of unique entries of a categorical variable as the **cardinality** of that categorical variable.  For instance, the `'Street'` variable has cardinality 2.\n",
    "\n",
    "Use the output above to answer the questions below."
   ]
  },
  {
   "cell_type": "code",
   "execution_count": 16,
   "id": "e6fc9f7f",
   "metadata": {
    "execution": {
     "iopub.execute_input": "2021-10-26T03:10:01.355769Z",
     "iopub.status.busy": "2021-10-26T03:10:01.354771Z",
     "iopub.status.idle": "2021-10-26T03:10:01.362672Z",
     "shell.execute_reply": "2021-10-26T03:10:01.363294Z",
     "shell.execute_reply.started": "2021-10-26T02:49:48.023988Z"
    },
    "papermill": {
     "duration": 0.047258,
     "end_time": "2021-10-26T03:10:01.363471",
     "exception": false,
     "start_time": "2021-10-26T03:10:01.316213",
     "status": "completed"
    },
    "tags": []
   },
   "outputs": [
    {
     "data": {
      "application/javascript": [
       "parent.postMessage({\"jupyterEvent\": \"custom.exercise_interaction\", \"data\": {\"outcomeType\": 1, \"valueTowardsCompletion\": 0.5, \"interactionType\": 1, \"questionType\": 1, \"questionId\": \"3.1_CardinalityA\", \"learnToolsVersion\": \"0.3.4\", \"failureMessage\": \"\", \"exceptionClass\": \"\", \"trace\": \"\"}}, \"*\")"
      ],
      "text/plain": [
       "<IPython.core.display.Javascript object>"
      ]
     },
     "metadata": {},
     "output_type": "display_data"
    },
    {
     "data": {
      "text/markdown": [
       "<span style=\"color:#33cc33\">Correct</span>"
      ],
      "text/plain": [
       "Correct"
      ]
     },
     "metadata": {},
     "output_type": "display_data"
    }
   ],
   "source": [
    "# Fill in the line below: How many categorical variables in the training data\n",
    "# have cardinality greater than 10?\n",
    "high_cardinality_numcols = 3\n",
    "\n",
    "# Fill in the line below: How many columns are needed to one-hot encode the \n",
    "# 'Neighborhood' variable in the training data?\n",
    "num_cols_neighborhood = 25\n",
    "\n",
    "# Check your answers\n",
    "step_3.a.check()"
   ]
  },
  {
   "cell_type": "code",
   "execution_count": 17,
   "id": "8dc2969c",
   "metadata": {
    "execution": {
     "iopub.execute_input": "2021-10-26T03:10:01.442073Z",
     "iopub.status.busy": "2021-10-26T03:10:01.441060Z",
     "iopub.status.idle": "2021-10-26T03:10:01.443952Z",
     "shell.execute_reply": "2021-10-26T03:10:01.443327Z"
    },
    "papermill": {
     "duration": 0.043829,
     "end_time": "2021-10-26T03:10:01.444089",
     "exception": false,
     "start_time": "2021-10-26T03:10:01.400260",
     "status": "completed"
    },
    "tags": []
   },
   "outputs": [],
   "source": [
    "# Lines below will give you a hint or solution code\n",
    "#step_3.a.hint()\n",
    "#step_3.a.solution()"
   ]
  },
  {
   "cell_type": "markdown",
   "id": "ef725b99",
   "metadata": {
    "papermill": {
     "duration": 0.036542,
     "end_time": "2021-10-26T03:10:01.517859",
     "exception": false,
     "start_time": "2021-10-26T03:10:01.481317",
     "status": "completed"
    },
    "tags": []
   },
   "source": [
    "### Part B\n",
    "\n",
    "For large datasets with many rows, one-hot encoding can greatly expand the size of the dataset.  For this reason, we typically will only one-hot encode columns with relatively low cardinality.  Then, high cardinality columns can either be dropped from the dataset, or we can use ordinal encoding.\n",
    "\n",
    "As an example, consider a dataset with 10,000 rows, and containing one categorical column with 100 unique entries.  \n",
    "- If this column is replaced with the corresponding one-hot encoding, how many entries are added to the dataset?  \n",
    "- If we instead replace the column with the ordinal encoding, how many entries are added?  \n",
    "\n",
    "Use your answers to fill in the lines below."
   ]
  },
  {
   "cell_type": "code",
   "execution_count": 18,
   "id": "80a02125",
   "metadata": {
    "execution": {
     "iopub.execute_input": "2021-10-26T03:10:01.598592Z",
     "iopub.status.busy": "2021-10-26T03:10:01.597531Z",
     "iopub.status.idle": "2021-10-26T03:10:01.602501Z",
     "shell.execute_reply": "2021-10-26T03:10:01.602998Z",
     "shell.execute_reply.started": "2021-10-26T02:53:44.817872Z"
    },
    "papermill": {
     "duration": 0.048178,
     "end_time": "2021-10-26T03:10:01.603192",
     "exception": false,
     "start_time": "2021-10-26T03:10:01.555014",
     "status": "completed"
    },
    "tags": []
   },
   "outputs": [
    {
     "data": {
      "application/javascript": [
       "parent.postMessage({\"jupyterEvent\": \"custom.exercise_interaction\", \"data\": {\"outcomeType\": 1, \"valueTowardsCompletion\": 0.5, \"interactionType\": 1, \"questionType\": 1, \"questionId\": \"3.2_CardinalityB\", \"learnToolsVersion\": \"0.3.4\", \"failureMessage\": \"\", \"exceptionClass\": \"\", \"trace\": \"\"}}, \"*\")"
      ],
      "text/plain": [
       "<IPython.core.display.Javascript object>"
      ]
     },
     "metadata": {},
     "output_type": "display_data"
    },
    {
     "data": {
      "text/markdown": [
       "<span style=\"color:#33cc33\">Correct</span>"
      ],
      "text/plain": [
       "Correct"
      ]
     },
     "metadata": {},
     "output_type": "display_data"
    }
   ],
   "source": [
    "# Fill in the line below: How many entries are added to the dataset by \n",
    "# replacing the column with a one-hot encoding?\n",
    "OH_entries_added = 10000*100-10000\n",
    "\n",
    "# Fill in the line below: How many entries are added to the dataset by\n",
    "# replacing the column with an ordinal encoding?\n",
    "label_entries_added = 0\n",
    "\n",
    "# Check your answers\n",
    "step_3.b.check()"
   ]
  },
  {
   "cell_type": "code",
   "execution_count": 19,
   "id": "592bf3d6",
   "metadata": {
    "execution": {
     "iopub.execute_input": "2021-10-26T03:10:01.684684Z",
     "iopub.status.busy": "2021-10-26T03:10:01.683708Z",
     "iopub.status.idle": "2021-10-26T03:10:01.687067Z",
     "shell.execute_reply": "2021-10-26T03:10:01.687743Z",
     "shell.execute_reply.started": "2021-10-26T02:54:00.138767Z"
    },
    "papermill": {
     "duration": 0.045316,
     "end_time": "2021-10-26T03:10:01.687917",
     "exception": false,
     "start_time": "2021-10-26T03:10:01.642601",
     "status": "completed"
    },
    "tags": []
   },
   "outputs": [],
   "source": [
    "# Lines below will give you a hint or solution code\n",
    "#step_3.b.hint()\n",
    "#step_3.b.solution()"
   ]
  },
  {
   "cell_type": "markdown",
   "id": "2097b0b7",
   "metadata": {
    "papermill": {
     "duration": 0.037579,
     "end_time": "2021-10-26T03:10:01.764002",
     "exception": false,
     "start_time": "2021-10-26T03:10:01.726423",
     "status": "completed"
    },
    "tags": []
   },
   "source": [
    "Next, you'll experiment with one-hot encoding.  But, instead of encoding all of the categorical variables in the dataset, you'll only create a one-hot encoding for columns with cardinality less than 10.\n",
    "\n",
    "Run the code cell below without changes to set `low_cardinality_cols` to a Python list containing the columns that will be one-hot encoded.  Likewise, `high_cardinality_cols` contains a list of categorical columns that will be dropped from the dataset."
   ]
  },
  {
   "cell_type": "code",
   "execution_count": 20,
   "id": "773f9654",
   "metadata": {
    "execution": {
     "iopub.execute_input": "2021-10-26T03:10:01.843981Z",
     "iopub.status.busy": "2021-10-26T03:10:01.842915Z",
     "iopub.status.idle": "2021-10-26T03:10:01.854717Z",
     "shell.execute_reply": "2021-10-26T03:10:01.855279Z",
     "shell.execute_reply.started": "2021-10-26T02:54:28.403745Z"
    },
    "papermill": {
     "duration": 0.053549,
     "end_time": "2021-10-26T03:10:01.855456",
     "exception": false,
     "start_time": "2021-10-26T03:10:01.801907",
     "status": "completed"
    },
    "tags": []
   },
   "outputs": [
    {
     "name": "stdout",
     "output_type": "stream",
     "text": [
      "Categorical columns that will be one-hot encoded: ['MSZoning', 'Street', 'LotShape', 'LandContour', 'Utilities', 'LotConfig', 'LandSlope', 'Condition1', 'Condition2', 'BldgType', 'HouseStyle', 'RoofStyle', 'RoofMatl', 'ExterQual', 'ExterCond', 'Foundation', 'Heating', 'HeatingQC', 'CentralAir', 'KitchenQual', 'Functional', 'PavedDrive', 'SaleType', 'SaleCondition']\n",
      "\n",
      "Categorical columns that will be dropped from the dataset: ['Exterior2nd', 'Neighborhood', 'Exterior1st']\n"
     ]
    }
   ],
   "source": [
    "# Columns that will be one-hot encoded\n",
    "low_cardinality_cols = [col for col in object_cols if X_train[col].nunique() < 10]\n",
    "\n",
    "# Columns that will be dropped from the dataset\n",
    "high_cardinality_cols = list(set(object_cols)-set(low_cardinality_cols))\n",
    "\n",
    "print('Categorical columns that will be one-hot encoded:', low_cardinality_cols)\n",
    "print('\\nCategorical columns that will be dropped from the dataset:', high_cardinality_cols)"
   ]
  },
  {
   "cell_type": "markdown",
   "id": "dd0afe78",
   "metadata": {
    "papermill": {
     "duration": 0.04002,
     "end_time": "2021-10-26T03:10:01.934113",
     "exception": false,
     "start_time": "2021-10-26T03:10:01.894093",
     "status": "completed"
    },
    "tags": []
   },
   "source": [
    "# Step 4: One-hot encoding\n",
    "\n",
    "Use the next code cell to one-hot encode the data in `X_train` and `X_valid`.  Set the preprocessed DataFrames to `OH_X_train` and `OH_X_valid`, respectively.  \n",
    "- The full list of categorical columns in the dataset can be found in the Python list `object_cols`.\n",
    "- You should only one-hot encode the categorical columns in `low_cardinality_cols`.  All other categorical columns should be dropped from the dataset. "
   ]
  },
  {
   "cell_type": "code",
   "execution_count": 21,
   "id": "e5287ec5",
   "metadata": {
    "execution": {
     "iopub.execute_input": "2021-10-26T03:10:02.015816Z",
     "iopub.status.busy": "2021-10-26T03:10:02.014789Z",
     "iopub.status.idle": "2021-10-26T03:10:02.060302Z",
     "shell.execute_reply": "2021-10-26T03:10:02.060900Z",
     "shell.execute_reply.started": "2021-10-26T03:08:56.526744Z"
    },
    "papermill": {
     "duration": 0.087735,
     "end_time": "2021-10-26T03:10:02.061139",
     "exception": false,
     "start_time": "2021-10-26T03:10:01.973404",
     "status": "completed"
    },
    "tags": []
   },
   "outputs": [
    {
     "data": {
      "application/javascript": [
       "parent.postMessage({\"jupyterEvent\": \"custom.exercise_interaction\", \"data\": {\"outcomeType\": 1, \"valueTowardsCompletion\": 0.5, \"interactionType\": 1, \"questionType\": 2, \"questionId\": \"4_OneHot\", \"learnToolsVersion\": \"0.3.4\", \"failureMessage\": \"\", \"exceptionClass\": \"\", \"trace\": \"\"}}, \"*\")"
      ],
      "text/plain": [
       "<IPython.core.display.Javascript object>"
      ]
     },
     "metadata": {},
     "output_type": "display_data"
    },
    {
     "data": {
      "text/markdown": [
       "<span style=\"color:#33cc33\">Correct</span>"
      ],
      "text/plain": [
       "Correct"
      ]
     },
     "metadata": {},
     "output_type": "display_data"
    }
   ],
   "source": [
    "from sklearn.preprocessing import OneHotEncoder\n",
    "\n",
    "# Use as many lines of code as you need!\n",
    "oh = OneHotEncoder(handle_unknown = 'ignore', sparse= False)\n",
    "oh_cols_train=pd.DataFrame(oh.fit_transform(X_train[low_cardinality_cols]))\n",
    "oh_cols_valid=pd.DataFrame(oh.transform(X_valid[low_cardinality_cols]))\n",
    "\n",
    "oh_cols_train.index=X_train.index\n",
    "oh_cols_valid.index=X_valid.index\n",
    "\n",
    "num_X_train = X_train.drop(object_cols, axis=1)\n",
    "num_X_valid = X_valid.drop(object_cols, axis=1)\n",
    "\n",
    "OH_X_train = pd.concat([num_X_train, oh_cols_train], axis=1)\n",
    "OH_X_valid = pd.concat([num_X_valid, oh_cols_valid], axis=1)\n",
    "\n",
    "# Check your answer\n",
    "step_4.check()"
   ]
  },
  {
   "cell_type": "code",
   "execution_count": 22,
   "id": "0bb5f007",
   "metadata": {
    "execution": {
     "iopub.execute_input": "2021-10-26T03:10:02.147945Z",
     "iopub.status.busy": "2021-10-26T03:10:02.146832Z",
     "iopub.status.idle": "2021-10-26T03:10:02.148759Z",
     "shell.execute_reply": "2021-10-26T03:10:02.149293Z",
     "shell.execute_reply.started": "2021-10-26T03:09:08.452773Z"
    },
    "papermill": {
     "duration": 0.047875,
     "end_time": "2021-10-26T03:10:02.149472",
     "exception": false,
     "start_time": "2021-10-26T03:10:02.101597",
     "status": "completed"
    },
    "tags": []
   },
   "outputs": [],
   "source": [
    "# Lines below will give you a hint or solution code\n",
    "#step_4.hint()\n",
    "#step_4.solution()"
   ]
  },
  {
   "cell_type": "markdown",
   "id": "1817cab6",
   "metadata": {
    "papermill": {
     "duration": 0.039365,
     "end_time": "2021-10-26T03:10:02.231124",
     "exception": false,
     "start_time": "2021-10-26T03:10:02.191759",
     "status": "completed"
    },
    "tags": []
   },
   "source": [
    "Run the next code cell to get the MAE for this approach."
   ]
  },
  {
   "cell_type": "code",
   "execution_count": 23,
   "id": "20e344a1",
   "metadata": {
    "execution": {
     "iopub.execute_input": "2021-10-26T03:10:02.313589Z",
     "iopub.status.busy": "2021-10-26T03:10:02.312614Z",
     "iopub.status.idle": "2021-10-26T03:10:04.302990Z",
     "shell.execute_reply": "2021-10-26T03:10:04.302416Z",
     "shell.execute_reply.started": "2021-10-26T03:09:14.781731Z"
    },
    "papermill": {
     "duration": 2.032606,
     "end_time": "2021-10-26T03:10:04.303173",
     "exception": false,
     "start_time": "2021-10-26T03:10:02.270567",
     "status": "completed"
    },
    "tags": []
   },
   "outputs": [
    {
     "name": "stdout",
     "output_type": "stream",
     "text": [
      "MAE from Approach 3 (One-Hot Encoding):\n",
      "17525.345719178084\n"
     ]
    }
   ],
   "source": [
    "print(\"MAE from Approach 3 (One-Hot Encoding):\") \n",
    "print(score_dataset(OH_X_train, OH_X_valid, y_train, y_valid))"
   ]
  },
  {
   "cell_type": "markdown",
   "id": "97e42ed7",
   "metadata": {
    "papermill": {
     "duration": 0.039816,
     "end_time": "2021-10-26T03:10:04.383104",
     "exception": false,
     "start_time": "2021-10-26T03:10:04.343288",
     "status": "completed"
    },
    "tags": []
   },
   "source": [
    "# Generate test predictions and submit your results\n",
    "\n",
    "After you complete Step 4, if you'd like to use what you've learned to submit your results to the leaderboard, you'll need to preprocess the test data before generating predictions.\n",
    "\n",
    "**This step is completely optional, and you do not need to submit results to the leaderboard to successfully complete the exercise.**\n",
    "\n",
    "Check out the previous exercise if you need help with remembering how to [join the competition](https://www.kaggle.com/c/home-data-for-ml-course) or save your results to CSV.  Once you have generated a file with your results, follow the instructions below:\n",
    "1. Begin by clicking on the **Save Version** button in the top right corner of the window.  This will generate a pop-up window.  \n",
    "2. Ensure that the **Save and Run All** option is selected, and then click on the **Save** button.\n",
    "3. This generates a window in the bottom left corner of the notebook.  After it has finished running, click on the number to the right of the **Save Version** button.  This pulls up a list of versions on the right of the screen.  Click on the ellipsis **(...)** to the right of the most recent version, and select **Open in Viewer**.  This brings you into view mode of the same page. You will need to scroll down to get back to these instructions.\n",
    "4. Click on the **Output** tab on the right of the screen.  Then, click on the file you would like to submit, and click on the **Submit** button to submit your results to the leaderboard.\n",
    "\n",
    "You have now successfully submitted to the competition!\n",
    "\n",
    "If you want to keep working to improve your performance, select the **Edit** button in the top right of the screen. Then you can change your code and repeat the process. There's a lot of room to improve, and you will climb up the leaderboard as you work.\n"
   ]
  },
  {
   "cell_type": "code",
   "execution_count": 24,
   "id": "62b9aef6",
   "metadata": {
    "execution": {
     "iopub.execute_input": "2021-10-26T03:10:04.468358Z",
     "iopub.status.busy": "2021-10-26T03:10:04.467230Z",
     "iopub.status.idle": "2021-10-26T03:10:04.469315Z",
     "shell.execute_reply": "2021-10-26T03:10:04.469881Z"
    },
    "papermill": {
     "duration": 0.046827,
     "end_time": "2021-10-26T03:10:04.470058",
     "exception": false,
     "start_time": "2021-10-26T03:10:04.423231",
     "status": "completed"
    },
    "tags": []
   },
   "outputs": [],
   "source": [
    "# (Optional) Your code here"
   ]
  },
  {
   "cell_type": "markdown",
   "id": "4085e122",
   "metadata": {
    "papermill": {
     "duration": 0.040132,
     "end_time": "2021-10-26T03:10:04.550915",
     "exception": false,
     "start_time": "2021-10-26T03:10:04.510783",
     "status": "completed"
    },
    "tags": []
   },
   "source": [
    "# Keep going\n",
    "\n",
    "With missing value handling and categorical encoding, your modeling process is getting complex. This complexity gets worse when you want to save your model to use in the future. The key to managing this complexity is something called **pipelines**. \n",
    "\n",
    "**[Learn to use pipelines](https://www.kaggle.com/alexisbcook/pipelines)** to preprocess datasets with categorical variables, missing values and any other messiness your data throws at you."
   ]
  }
 ],
 "metadata": {
  "kernelspec": {
   "display_name": "Python 3",
   "language": "python",
   "name": "python3"
  },
  "language_info": {
   "codemirror_mode": {
    "name": "ipython",
    "version": 3
   },
   "file_extension": ".py",
   "mimetype": "text/x-python",
   "name": "python",
   "nbconvert_exporter": "python",
   "pygments_lexer": "ipython3",
   "version": "3.7.10"
  },
  "papermill": {
   "default_parameters": {},
   "duration": 20.177537,
   "end_time": "2021-10-26T03:10:05.301881",
   "environment_variables": {},
   "exception": null,
   "input_path": "__notebook__.ipynb",
   "output_path": "__notebook__.ipynb",
   "parameters": {},
   "start_time": "2021-10-26T03:09:45.124344",
   "version": "2.3.3"
  }
 },
 "nbformat": 4,
 "nbformat_minor": 5
}
