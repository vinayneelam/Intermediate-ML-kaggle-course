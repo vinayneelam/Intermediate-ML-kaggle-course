{
 "cells": [
  {
   "cell_type": "markdown",
   "id": "3d9e3fcf",
   "metadata": {
    "papermill": {
     "duration": 0.021568,
     "end_time": "2021-10-25T03:30:21.516840",
     "exception": false,
     "start_time": "2021-10-25T03:30:21.495272",
     "status": "completed"
    },
    "tags": []
   },
   "source": [
    "**This notebook is an exercise in the [Intermediate Machine Learning](https://www.kaggle.com/learn/intermediate-machine-learning) course.  You can reference the tutorial at [this link](https://www.kaggle.com/alexisbcook/missing-values).**\n",
    "\n",
    "---\n"
   ]
  },
  {
   "cell_type": "markdown",
   "id": "99f06d8a",
   "metadata": {
    "papermill": {
     "duration": 0.020121,
     "end_time": "2021-10-25T03:30:21.558249",
     "exception": false,
     "start_time": "2021-10-25T03:30:21.538128",
     "status": "completed"
    },
    "tags": []
   },
   "source": [
    "Now it's your turn to test your new knowledge of **missing values** handling. You'll probably find it makes a big difference.\n",
    "\n",
    "# Setup\n",
    "\n",
    "The questions will give you feedback on your work. Run the following cell to set up the feedback system."
   ]
  },
  {
   "cell_type": "code",
   "execution_count": 1,
   "id": "129e6498",
   "metadata": {
    "execution": {
     "iopub.execute_input": "2021-10-25T03:30:21.603282Z",
     "iopub.status.busy": "2021-10-25T03:30:21.602211Z",
     "iopub.status.idle": "2021-10-25T03:30:21.649493Z",
     "shell.execute_reply": "2021-10-25T03:30:21.649954Z",
     "shell.execute_reply.started": "2021-10-25T03:29:49.137296Z"
    },
    "papermill": {
     "duration": 0.071583,
     "end_time": "2021-10-25T03:30:21.650245",
     "exception": false,
     "start_time": "2021-10-25T03:30:21.578662",
     "status": "completed"
    },
    "tags": []
   },
   "outputs": [
    {
     "name": "stdout",
     "output_type": "stream",
     "text": [
      "Setup Complete\n"
     ]
    }
   ],
   "source": [
    "# Set up code checking\n",
    "import os\n",
    "if not os.path.exists(\"../input/train.csv\"):\n",
    "    os.symlink(\"../input/home-data-for-ml-course/train.csv\", \"../input/train.csv\")  \n",
    "    os.symlink(\"../input/home-data-for-ml-course/test.csv\", \"../input/test.csv\") \n",
    "from learntools.core import binder\n",
    "binder.bind(globals())\n",
    "from learntools.ml_intermediate.ex2 import *\n",
    "print(\"Setup Complete\")"
   ]
  },
  {
   "cell_type": "markdown",
   "id": "77fd8074",
   "metadata": {
    "papermill": {
     "duration": 0.021421,
     "end_time": "2021-10-25T03:30:21.693481",
     "exception": false,
     "start_time": "2021-10-25T03:30:21.672060",
     "status": "completed"
    },
    "tags": []
   },
   "source": [
    "In this exercise, you will work with data from the [Housing Prices Competition for Kaggle Learn Users](https://www.kaggle.com/c/home-data-for-ml-course). \n",
    "\n",
    "![Ames Housing dataset image](https://i.imgur.com/lTJVG4e.png)\n",
    "\n",
    "Run the next code cell without changes to load the training and validation sets in `X_train`, `X_valid`, `y_train`, and `y_valid`.  The test set is loaded in `X_test`."
   ]
  },
  {
   "cell_type": "code",
   "execution_count": 2,
   "id": "c4bf29a5",
   "metadata": {
    "execution": {
     "iopub.execute_input": "2021-10-25T03:30:21.742098Z",
     "iopub.status.busy": "2021-10-25T03:30:21.741357Z",
     "iopub.status.idle": "2021-10-25T03:30:22.767964Z",
     "shell.execute_reply": "2021-10-25T03:30:22.766825Z",
     "shell.execute_reply.started": "2021-10-25T03:29:49.149662Z"
    },
    "papermill": {
     "duration": 1.053923,
     "end_time": "2021-10-25T03:30:22.768156",
     "exception": false,
     "start_time": "2021-10-25T03:30:21.714233",
     "status": "completed"
    },
    "tags": []
   },
   "outputs": [],
   "source": [
    "import pandas as pd\n",
    "from sklearn.model_selection import train_test_split\n",
    "\n",
    "# Read the data\n",
    "X_full = pd.read_csv('../input/train.csv', index_col='Id')\n",
    "X_test_full = pd.read_csv('../input/test.csv', index_col='Id')\n",
    "\n",
    "# Remove rows with missing target, separate target from predictors\n",
    "X_full.dropna(axis=0, subset=['SalePrice'], inplace=True)\n",
    "y = X_full.SalePrice\n",
    "X_full.drop(['SalePrice'], axis=1, inplace=True)\n",
    "\n",
    "# To keep things simple, we'll use only numerical predictors\n",
    "X = X_full.select_dtypes(exclude=['object'])\n",
    "X_test = X_test_full.select_dtypes(exclude=['object'])\n",
    "\n",
    "# Break off validation set from training data\n",
    "X_train, X_valid, y_train, y_valid = train_test_split(X, y, train_size=0.8, test_size=0.2,\n",
    "                                                      random_state=0)"
   ]
  },
  {
   "cell_type": "markdown",
   "id": "04fda762",
   "metadata": {
    "papermill": {
     "duration": 0.02083,
     "end_time": "2021-10-25T03:30:22.810339",
     "exception": false,
     "start_time": "2021-10-25T03:30:22.789509",
     "status": "completed"
    },
    "tags": []
   },
   "source": [
    "Use the next code cell to print the first five rows of the data."
   ]
  },
  {
   "cell_type": "code",
   "execution_count": 3,
   "id": "b2f87580",
   "metadata": {
    "execution": {
     "iopub.execute_input": "2021-10-25T03:30:22.856620Z",
     "iopub.status.busy": "2021-10-25T03:30:22.855641Z",
     "iopub.status.idle": "2021-10-25T03:30:22.880142Z",
     "shell.execute_reply": "2021-10-25T03:30:22.880603Z",
     "shell.execute_reply.started": "2021-10-25T03:29:49.219611Z"
    },
    "papermill": {
     "duration": 0.049297,
     "end_time": "2021-10-25T03:30:22.880776",
     "exception": false,
     "start_time": "2021-10-25T03:30:22.831479",
     "status": "completed"
    },
    "tags": []
   },
   "outputs": [
    {
     "data": {
      "text/html": [
       "<div>\n",
       "<style scoped>\n",
       "    .dataframe tbody tr th:only-of-type {\n",
       "        vertical-align: middle;\n",
       "    }\n",
       "\n",
       "    .dataframe tbody tr th {\n",
       "        vertical-align: top;\n",
       "    }\n",
       "\n",
       "    .dataframe thead th {\n",
       "        text-align: right;\n",
       "    }\n",
       "</style>\n",
       "<table border=\"1\" class=\"dataframe\">\n",
       "  <thead>\n",
       "    <tr style=\"text-align: right;\">\n",
       "      <th></th>\n",
       "      <th>MSSubClass</th>\n",
       "      <th>LotFrontage</th>\n",
       "      <th>LotArea</th>\n",
       "      <th>OverallQual</th>\n",
       "      <th>OverallCond</th>\n",
       "      <th>YearBuilt</th>\n",
       "      <th>YearRemodAdd</th>\n",
       "      <th>MasVnrArea</th>\n",
       "      <th>BsmtFinSF1</th>\n",
       "      <th>BsmtFinSF2</th>\n",
       "      <th>...</th>\n",
       "      <th>GarageArea</th>\n",
       "      <th>WoodDeckSF</th>\n",
       "      <th>OpenPorchSF</th>\n",
       "      <th>EnclosedPorch</th>\n",
       "      <th>3SsnPorch</th>\n",
       "      <th>ScreenPorch</th>\n",
       "      <th>PoolArea</th>\n",
       "      <th>MiscVal</th>\n",
       "      <th>MoSold</th>\n",
       "      <th>YrSold</th>\n",
       "    </tr>\n",
       "    <tr>\n",
       "      <th>Id</th>\n",
       "      <th></th>\n",
       "      <th></th>\n",
       "      <th></th>\n",
       "      <th></th>\n",
       "      <th></th>\n",
       "      <th></th>\n",
       "      <th></th>\n",
       "      <th></th>\n",
       "      <th></th>\n",
       "      <th></th>\n",
       "      <th></th>\n",
       "      <th></th>\n",
       "      <th></th>\n",
       "      <th></th>\n",
       "      <th></th>\n",
       "      <th></th>\n",
       "      <th></th>\n",
       "      <th></th>\n",
       "      <th></th>\n",
       "      <th></th>\n",
       "      <th></th>\n",
       "    </tr>\n",
       "  </thead>\n",
       "  <tbody>\n",
       "    <tr>\n",
       "      <th>619</th>\n",
       "      <td>20</td>\n",
       "      <td>90.0</td>\n",
       "      <td>11694</td>\n",
       "      <td>9</td>\n",
       "      <td>5</td>\n",
       "      <td>2007</td>\n",
       "      <td>2007</td>\n",
       "      <td>452.0</td>\n",
       "      <td>48</td>\n",
       "      <td>0</td>\n",
       "      <td>...</td>\n",
       "      <td>774</td>\n",
       "      <td>0</td>\n",
       "      <td>108</td>\n",
       "      <td>0</td>\n",
       "      <td>0</td>\n",
       "      <td>260</td>\n",
       "      <td>0</td>\n",
       "      <td>0</td>\n",
       "      <td>7</td>\n",
       "      <td>2007</td>\n",
       "    </tr>\n",
       "    <tr>\n",
       "      <th>871</th>\n",
       "      <td>20</td>\n",
       "      <td>60.0</td>\n",
       "      <td>6600</td>\n",
       "      <td>5</td>\n",
       "      <td>5</td>\n",
       "      <td>1962</td>\n",
       "      <td>1962</td>\n",
       "      <td>0.0</td>\n",
       "      <td>0</td>\n",
       "      <td>0</td>\n",
       "      <td>...</td>\n",
       "      <td>308</td>\n",
       "      <td>0</td>\n",
       "      <td>0</td>\n",
       "      <td>0</td>\n",
       "      <td>0</td>\n",
       "      <td>0</td>\n",
       "      <td>0</td>\n",
       "      <td>0</td>\n",
       "      <td>8</td>\n",
       "      <td>2009</td>\n",
       "    </tr>\n",
       "    <tr>\n",
       "      <th>93</th>\n",
       "      <td>30</td>\n",
       "      <td>80.0</td>\n",
       "      <td>13360</td>\n",
       "      <td>5</td>\n",
       "      <td>7</td>\n",
       "      <td>1921</td>\n",
       "      <td>2006</td>\n",
       "      <td>0.0</td>\n",
       "      <td>713</td>\n",
       "      <td>0</td>\n",
       "      <td>...</td>\n",
       "      <td>432</td>\n",
       "      <td>0</td>\n",
       "      <td>0</td>\n",
       "      <td>44</td>\n",
       "      <td>0</td>\n",
       "      <td>0</td>\n",
       "      <td>0</td>\n",
       "      <td>0</td>\n",
       "      <td>8</td>\n",
       "      <td>2009</td>\n",
       "    </tr>\n",
       "    <tr>\n",
       "      <th>818</th>\n",
       "      <td>20</td>\n",
       "      <td>NaN</td>\n",
       "      <td>13265</td>\n",
       "      <td>8</td>\n",
       "      <td>5</td>\n",
       "      <td>2002</td>\n",
       "      <td>2002</td>\n",
       "      <td>148.0</td>\n",
       "      <td>1218</td>\n",
       "      <td>0</td>\n",
       "      <td>...</td>\n",
       "      <td>857</td>\n",
       "      <td>150</td>\n",
       "      <td>59</td>\n",
       "      <td>0</td>\n",
       "      <td>0</td>\n",
       "      <td>0</td>\n",
       "      <td>0</td>\n",
       "      <td>0</td>\n",
       "      <td>7</td>\n",
       "      <td>2008</td>\n",
       "    </tr>\n",
       "    <tr>\n",
       "      <th>303</th>\n",
       "      <td>20</td>\n",
       "      <td>118.0</td>\n",
       "      <td>13704</td>\n",
       "      <td>7</td>\n",
       "      <td>5</td>\n",
       "      <td>2001</td>\n",
       "      <td>2002</td>\n",
       "      <td>150.0</td>\n",
       "      <td>0</td>\n",
       "      <td>0</td>\n",
       "      <td>...</td>\n",
       "      <td>843</td>\n",
       "      <td>468</td>\n",
       "      <td>81</td>\n",
       "      <td>0</td>\n",
       "      <td>0</td>\n",
       "      <td>0</td>\n",
       "      <td>0</td>\n",
       "      <td>0</td>\n",
       "      <td>1</td>\n",
       "      <td>2006</td>\n",
       "    </tr>\n",
       "  </tbody>\n",
       "</table>\n",
       "<p>5 rows × 36 columns</p>\n",
       "</div>"
      ],
      "text/plain": [
       "     MSSubClass  LotFrontage  LotArea  OverallQual  OverallCond  YearBuilt  \\\n",
       "Id                                                                           \n",
       "619          20         90.0    11694            9            5       2007   \n",
       "871          20         60.0     6600            5            5       1962   \n",
       "93           30         80.0    13360            5            7       1921   \n",
       "818          20          NaN    13265            8            5       2002   \n",
       "303          20        118.0    13704            7            5       2001   \n",
       "\n",
       "     YearRemodAdd  MasVnrArea  BsmtFinSF1  BsmtFinSF2  ...  GarageArea  \\\n",
       "Id                                                     ...               \n",
       "619          2007       452.0          48           0  ...         774   \n",
       "871          1962         0.0           0           0  ...         308   \n",
       "93           2006         0.0         713           0  ...         432   \n",
       "818          2002       148.0        1218           0  ...         857   \n",
       "303          2002       150.0           0           0  ...         843   \n",
       "\n",
       "     WoodDeckSF  OpenPorchSF  EnclosedPorch  3SsnPorch  ScreenPorch  PoolArea  \\\n",
       "Id                                                                              \n",
       "619           0          108              0          0          260         0   \n",
       "871           0            0              0          0            0         0   \n",
       "93            0            0             44          0            0         0   \n",
       "818         150           59              0          0            0         0   \n",
       "303         468           81              0          0            0         0   \n",
       "\n",
       "     MiscVal  MoSold  YrSold  \n",
       "Id                            \n",
       "619        0       7    2007  \n",
       "871        0       8    2009  \n",
       "93         0       8    2009  \n",
       "818        0       7    2008  \n",
       "303        0       1    2006  \n",
       "\n",
       "[5 rows x 36 columns]"
      ]
     },
     "execution_count": 3,
     "metadata": {},
     "output_type": "execute_result"
    }
   ],
   "source": [
    "X_train.head()"
   ]
  },
  {
   "cell_type": "markdown",
   "id": "eb1ddf1a",
   "metadata": {
    "papermill": {
     "duration": 0.021006,
     "end_time": "2021-10-25T03:30:22.922954",
     "exception": false,
     "start_time": "2021-10-25T03:30:22.901948",
     "status": "completed"
    },
    "tags": []
   },
   "source": [
    "You can already see a few missing values in the first several rows.  In the next step, you'll obtain a more comprehensive understanding of the missing values in the dataset.\n",
    "\n",
    "# Step 1: Preliminary investigation\n",
    "\n",
    "Run the code cell below without changes."
   ]
  },
  {
   "cell_type": "code",
   "execution_count": 4,
   "id": "3b0febf7",
   "metadata": {
    "execution": {
     "iopub.execute_input": "2021-10-25T03:30:22.970662Z",
     "iopub.status.busy": "2021-10-25T03:30:22.969694Z",
     "iopub.status.idle": "2021-10-25T03:30:22.977986Z",
     "shell.execute_reply": "2021-10-25T03:30:22.978564Z",
     "shell.execute_reply.started": "2021-10-25T03:29:49.244207Z"
    },
    "papermill": {
     "duration": 0.034522,
     "end_time": "2021-10-25T03:30:22.978734",
     "exception": false,
     "start_time": "2021-10-25T03:30:22.944212",
     "status": "completed"
    },
    "tags": []
   },
   "outputs": [
    {
     "name": "stdout",
     "output_type": "stream",
     "text": [
      "(1168, 36)\n",
      "LotFrontage    212\n",
      "MasVnrArea       6\n",
      "GarageYrBlt     58\n",
      "dtype: int64\n"
     ]
    }
   ],
   "source": [
    "# Shape of training data (num_rows, num_columns)\n",
    "print(X_train.shape)\n",
    "\n",
    "# Number of missing values in each column of training data\n",
    "missing_val_count_by_column = (X_train.isnull().sum())\n",
    "print(missing_val_count_by_column[missing_val_count_by_column > 0])"
   ]
  },
  {
   "cell_type": "markdown",
   "id": "834b4719",
   "metadata": {
    "papermill": {
     "duration": 0.037087,
     "end_time": "2021-10-25T03:30:23.043318",
     "exception": false,
     "start_time": "2021-10-25T03:30:23.006231",
     "status": "completed"
    },
    "tags": []
   },
   "source": [
    "### Part A\n",
    "\n",
    "Use the above output to answer the questions below."
   ]
  },
  {
   "cell_type": "code",
   "execution_count": 5,
   "id": "dceac522",
   "metadata": {
    "execution": {
     "iopub.execute_input": "2021-10-25T03:30:23.094373Z",
     "iopub.status.busy": "2021-10-25T03:30:23.093392Z",
     "iopub.status.idle": "2021-10-25T03:30:23.101191Z",
     "shell.execute_reply": "2021-10-25T03:30:23.101654Z",
     "shell.execute_reply.started": "2021-10-25T03:29:49.254672Z"
    },
    "papermill": {
     "duration": 0.032762,
     "end_time": "2021-10-25T03:30:23.101818",
     "exception": false,
     "start_time": "2021-10-25T03:30:23.069056",
     "status": "completed"
    },
    "tags": []
   },
   "outputs": [
    {
     "data": {
      "application/javascript": [
       "parent.postMessage({\"jupyterEvent\": \"custom.exercise_interaction\", \"data\": {\"outcomeType\": 1, \"valueTowardsCompletion\": 1.0, \"interactionType\": 1, \"questionType\": 1, \"questionId\": \"1.1_InvestigateEquality\", \"learnToolsVersion\": \"0.3.4\", \"failureMessage\": \"\", \"exceptionClass\": \"\", \"trace\": \"\"}}, \"*\")"
      ],
      "text/plain": [
       "<IPython.core.display.Javascript object>"
      ]
     },
     "metadata": {},
     "output_type": "display_data"
    },
    {
     "data": {
      "text/markdown": [
       "<span style=\"color:#33cc33\">Correct</span>"
      ],
      "text/plain": [
       "Correct"
      ]
     },
     "metadata": {},
     "output_type": "display_data"
    }
   ],
   "source": [
    "# Fill in the line below: How many rows are in the training data?\n",
    "num_rows = 1168\n",
    "\n",
    "# Fill in the line below: How many columns in the training data\n",
    "# have missing values?\n",
    "num_cols_with_missing = 3\n",
    "\n",
    "# Fill in the line below: How many missing entries are contained in \n",
    "# all of the training data?\n",
    "tot_missing = 212+6+58\n",
    "\n",
    "# Check your answers\n",
    "step_1.a.check()"
   ]
  },
  {
   "cell_type": "code",
   "execution_count": 6,
   "id": "b03f0323",
   "metadata": {
    "execution": {
     "iopub.execute_input": "2021-10-25T03:30:23.150863Z",
     "iopub.status.busy": "2021-10-25T03:30:23.149932Z",
     "iopub.status.idle": "2021-10-25T03:30:23.153439Z",
     "shell.execute_reply": "2021-10-25T03:30:23.153872Z",
     "shell.execute_reply.started": "2021-10-25T03:29:49.267615Z"
    },
    "papermill": {
     "duration": 0.029143,
     "end_time": "2021-10-25T03:30:23.154065",
     "exception": false,
     "start_time": "2021-10-25T03:30:23.124922",
     "status": "completed"
    },
    "tags": []
   },
   "outputs": [],
   "source": [
    "# Lines below will give you a hint or solution code\n",
    "#step_1.a.hint()\n",
    "#step_1.a.solution()"
   ]
  },
  {
   "cell_type": "markdown",
   "id": "da4c418e",
   "metadata": {
    "papermill": {
     "duration": 0.022245,
     "end_time": "2021-10-25T03:30:23.198836",
     "exception": false,
     "start_time": "2021-10-25T03:30:23.176591",
     "status": "completed"
    },
    "tags": []
   },
   "source": [
    "### Part B\n",
    "Considering your answers above, what do you think is likely the best approach to dealing with the missing values?"
   ]
  },
  {
   "cell_type": "code",
   "execution_count": 7,
   "id": "3264bd3d",
   "metadata": {
    "execution": {
     "iopub.execute_input": "2021-10-25T03:30:23.249022Z",
     "iopub.status.busy": "2021-10-25T03:30:23.248059Z",
     "iopub.status.idle": "2021-10-25T03:30:23.253630Z",
     "shell.execute_reply": "2021-10-25T03:30:23.253150Z",
     "shell.execute_reply.started": "2021-10-25T03:29:49.275675Z"
    },
    "papermill": {
     "duration": 0.03256,
     "end_time": "2021-10-25T03:30:23.253774",
     "exception": false,
     "start_time": "2021-10-25T03:30:23.221214",
     "status": "completed"
    },
    "tags": []
   },
   "outputs": [
    {
     "data": {
      "application/javascript": [
       "parent.postMessage({\"jupyterEvent\": \"custom.exercise_interaction\", \"data\": {\"outcomeType\": 1, \"valueTowardsCompletion\": 1.0, \"interactionType\": 1, \"questionType\": 4, \"questionId\": \"1.2_InvestigateThought\", \"learnToolsVersion\": \"0.3.4\", \"failureMessage\": \"\", \"exceptionClass\": \"\", \"trace\": \"\"}}, \"*\")"
      ],
      "text/plain": [
       "<IPython.core.display.Javascript object>"
      ]
     },
     "metadata": {},
     "output_type": "display_data"
    },
    {
     "data": {
      "text/markdown": [
       "<span style=\"color:#33cc33\">Correct:</span> \n",
       "\n",
       "Since there are relatively few missing entries in the data (the column with the greatest percentage of missing values is missing less than 20% of its entries), we can expect that dropping columns is unlikely to yield good results.  This is because we'd be throwing away a lot of valuable data, and so imputation will likely perform better."
      ],
      "text/plain": [
       "Correct: \n",
       "\n",
       "Since there are relatively few missing entries in the data (the column with the greatest percentage of missing values is missing less than 20% of its entries), we can expect that dropping columns is unlikely to yield good results.  This is because we'd be throwing away a lot of valuable data, and so imputation will likely perform better."
      ]
     },
     "metadata": {},
     "output_type": "display_data"
    }
   ],
   "source": [
    "# Check your answer (Run this code cell to receive credit!)\n",
    "step_1.b.check()"
   ]
  },
  {
   "cell_type": "code",
   "execution_count": 8,
   "id": "d47dc736",
   "metadata": {
    "execution": {
     "iopub.execute_input": "2021-10-25T03:30:23.303984Z",
     "iopub.status.busy": "2021-10-25T03:30:23.303174Z",
     "iopub.status.idle": "2021-10-25T03:30:23.305840Z",
     "shell.execute_reply": "2021-10-25T03:30:23.306411Z",
     "shell.execute_reply.started": "2021-10-25T03:29:49.290372Z"
    },
    "papermill": {
     "duration": 0.029495,
     "end_time": "2021-10-25T03:30:23.306569",
     "exception": false,
     "start_time": "2021-10-25T03:30:23.277074",
     "status": "completed"
    },
    "tags": []
   },
   "outputs": [],
   "source": [
    "#step_1.b.hint()"
   ]
  },
  {
   "cell_type": "markdown",
   "id": "5a829bc4",
   "metadata": {
    "papermill": {
     "duration": 0.022759,
     "end_time": "2021-10-25T03:30:23.352230",
     "exception": false,
     "start_time": "2021-10-25T03:30:23.329471",
     "status": "completed"
    },
    "tags": []
   },
   "source": [
    "To compare different approaches to dealing with missing values, you'll use the same `score_dataset()` function from the tutorial.  This function reports the [mean absolute error](https://en.wikipedia.org/wiki/Mean_absolute_error) (MAE) from a random forest model."
   ]
  },
  {
   "cell_type": "code",
   "execution_count": 9,
   "id": "5ef17535",
   "metadata": {
    "execution": {
     "iopub.execute_input": "2021-10-25T03:30:23.402806Z",
     "iopub.status.busy": "2021-10-25T03:30:23.401769Z",
     "iopub.status.idle": "2021-10-25T03:30:23.695102Z",
     "shell.execute_reply": "2021-10-25T03:30:23.694507Z",
     "shell.execute_reply.started": "2021-10-25T03:29:49.299532Z"
    },
    "papermill": {
     "duration": 0.320222,
     "end_time": "2021-10-25T03:30:23.695297",
     "exception": false,
     "start_time": "2021-10-25T03:30:23.375075",
     "status": "completed"
    },
    "tags": []
   },
   "outputs": [],
   "source": [
    "from sklearn.ensemble import RandomForestRegressor\n",
    "from sklearn.metrics import mean_absolute_error\n",
    "\n",
    "# Function for comparing different approaches\n",
    "def score_dataset(X_train, X_valid, y_train, y_valid):\n",
    "    model = RandomForestRegressor(n_estimators=100, random_state=0)\n",
    "    model.fit(X_train, y_train)\n",
    "    preds = model.predict(X_valid)\n",
    "    return mean_absolute_error(y_valid, preds)"
   ]
  },
  {
   "cell_type": "markdown",
   "id": "f151b850",
   "metadata": {
    "papermill": {
     "duration": 0.022925,
     "end_time": "2021-10-25T03:30:23.741460",
     "exception": false,
     "start_time": "2021-10-25T03:30:23.718535",
     "status": "completed"
    },
    "tags": []
   },
   "source": [
    "# Step 2: Drop columns with missing values\n",
    "\n",
    "In this step, you'll preprocess the data in `X_train` and `X_valid` to remove columns with missing values.  Set the preprocessed DataFrames to `reduced_X_train` and `reduced_X_valid`, respectively.  "
   ]
  },
  {
   "cell_type": "code",
   "execution_count": 10,
   "id": "16c310b3",
   "metadata": {
    "execution": {
     "iopub.execute_input": "2021-10-25T03:30:23.792871Z",
     "iopub.status.busy": "2021-10-25T03:30:23.791883Z",
     "iopub.status.idle": "2021-10-25T03:30:23.816697Z",
     "shell.execute_reply": "2021-10-25T03:30:23.817183Z",
     "shell.execute_reply.started": "2021-10-25T03:29:49.309856Z"
    },
    "papermill": {
     "duration": 0.052019,
     "end_time": "2021-10-25T03:30:23.817357",
     "exception": false,
     "start_time": "2021-10-25T03:30:23.765338",
     "status": "completed"
    },
    "tags": []
   },
   "outputs": [
    {
     "data": {
      "application/javascript": [
       "parent.postMessage({\"jupyterEvent\": \"custom.exercise_interaction\", \"data\": {\"outcomeType\": 1, \"valueTowardsCompletion\": 1.0, \"interactionType\": 1, \"questionType\": 2, \"questionId\": \"2_DropMissing\", \"learnToolsVersion\": \"0.3.4\", \"failureMessage\": \"\", \"exceptionClass\": \"\", \"trace\": \"\"}}, \"*\")"
      ],
      "text/plain": [
       "<IPython.core.display.Javascript object>"
      ]
     },
     "metadata": {},
     "output_type": "display_data"
    },
    {
     "data": {
      "text/markdown": [
       "<span style=\"color:#33cc33\">Correct</span>"
      ],
      "text/plain": [
       "Correct"
      ]
     },
     "metadata": {},
     "output_type": "display_data"
    }
   ],
   "source": [
    "# Fill in the line below: get names of columns with missing values\n",
    "col_mis=[col for col in X_train.columns if X_train[col].isnull().any()]\n",
    "\n",
    "# Fill in the lines below: drop columns in training and validation data\n",
    "reduced_X_train = X_train.drop(col_mis,axis=1)\n",
    "reduced_X_valid = X_valid.drop(col_mis,axis=1)\n",
    "\n",
    "# Check your answers\n",
    "step_2.check()"
   ]
  },
  {
   "cell_type": "code",
   "execution_count": 11,
   "id": "703be9e0",
   "metadata": {
    "execution": {
     "iopub.execute_input": "2021-10-25T03:30:23.869266Z",
     "iopub.status.busy": "2021-10-25T03:30:23.868557Z",
     "iopub.status.idle": "2021-10-25T03:30:23.869957Z",
     "shell.execute_reply": "2021-10-25T03:30:23.870478Z",
     "shell.execute_reply.started": "2021-10-25T03:29:49.346614Z"
    },
    "papermill": {
     "duration": 0.029625,
     "end_time": "2021-10-25T03:30:23.870632",
     "exception": false,
     "start_time": "2021-10-25T03:30:23.841007",
     "status": "completed"
    },
    "tags": []
   },
   "outputs": [],
   "source": [
    "# Lines below will give you a hint or solution code\n",
    "#step_2.hint()\n",
    "#step_2.solution()"
   ]
  },
  {
   "cell_type": "markdown",
   "id": "4ca4dbd6",
   "metadata": {
    "papermill": {
     "duration": 0.023645,
     "end_time": "2021-10-25T03:30:23.918349",
     "exception": false,
     "start_time": "2021-10-25T03:30:23.894704",
     "status": "completed"
    },
    "tags": []
   },
   "source": [
    "Run the next code cell without changes to obtain the MAE for this approach."
   ]
  },
  {
   "cell_type": "code",
   "execution_count": 12,
   "id": "8e34e08a",
   "metadata": {
    "execution": {
     "iopub.execute_input": "2021-10-25T03:30:23.969157Z",
     "iopub.status.busy": "2021-10-25T03:30:23.968508Z",
     "iopub.status.idle": "2021-10-25T03:30:25.187188Z",
     "shell.execute_reply": "2021-10-25T03:30:25.187791Z",
     "shell.execute_reply.started": "2021-10-25T03:29:49.351326Z"
    },
    "papermill": {
     "duration": 1.24578,
     "end_time": "2021-10-25T03:30:25.187968",
     "exception": false,
     "start_time": "2021-10-25T03:30:23.942188",
     "status": "completed"
    },
    "tags": []
   },
   "outputs": [
    {
     "name": "stdout",
     "output_type": "stream",
     "text": [
      "MAE (Drop columns with missing values):\n",
      "17837.82570776256\n"
     ]
    }
   ],
   "source": [
    "print(\"MAE (Drop columns with missing values):\")\n",
    "print(score_dataset(reduced_X_train, reduced_X_valid, y_train, y_valid))"
   ]
  },
  {
   "cell_type": "markdown",
   "id": "b985324b",
   "metadata": {
    "papermill": {
     "duration": 0.024258,
     "end_time": "2021-10-25T03:30:25.237278",
     "exception": false,
     "start_time": "2021-10-25T03:30:25.213020",
     "status": "completed"
    },
    "tags": []
   },
   "source": [
    "# Step 3: Imputation\n",
    "\n",
    "### Part A\n",
    "\n",
    "Use the next code cell to impute missing values with the mean value along each column.  Set the preprocessed DataFrames to `imputed_X_train` and `imputed_X_valid`.  Make sure that the column names match those in `X_train` and `X_valid`."
   ]
  },
  {
   "cell_type": "code",
   "execution_count": 13,
   "id": "9c128b5a",
   "metadata": {
    "execution": {
     "iopub.execute_input": "2021-10-25T03:30:25.292192Z",
     "iopub.status.busy": "2021-10-25T03:30:25.291358Z",
     "iopub.status.idle": "2021-10-25T03:30:25.318912Z",
     "shell.execute_reply": "2021-10-25T03:30:25.319505Z",
     "shell.execute_reply.started": "2021-10-25T03:29:50.583029Z"
    },
    "papermill": {
     "duration": 0.057875,
     "end_time": "2021-10-25T03:30:25.319694",
     "exception": false,
     "start_time": "2021-10-25T03:30:25.261819",
     "status": "completed"
    },
    "tags": []
   },
   "outputs": [
    {
     "data": {
      "application/javascript": [
       "parent.postMessage({\"jupyterEvent\": \"custom.exercise_interaction\", \"data\": {\"outcomeType\": 1, \"valueTowardsCompletion\": 1.0, \"interactionType\": 1, \"questionType\": 2, \"questionId\": \"3.1_ImputeCode\", \"learnToolsVersion\": \"0.3.4\", \"failureMessage\": \"\", \"exceptionClass\": \"\", \"trace\": \"\"}}, \"*\")"
      ],
      "text/plain": [
       "<IPython.core.display.Javascript object>"
      ]
     },
     "metadata": {},
     "output_type": "display_data"
    },
    {
     "data": {
      "text/markdown": [
       "<span style=\"color:#33cc33\">Correct</span>"
      ],
      "text/plain": [
       "Correct"
      ]
     },
     "metadata": {},
     "output_type": "display_data"
    }
   ],
   "source": [
    "from sklearn.impute import SimpleImputer\n",
    "\n",
    "# Fill in the lines below: imputation\n",
    "imp=SimpleImputer()\n",
    "imputed_X_train = pd.DataFrame(imp.fit_transform(X_train))\n",
    "imputed_X_valid = pd.DataFrame(imp.transform(X_valid))\n",
    "\n",
    "# Fill in the lines below: imputation removed column names; put them back\n",
    "imputed_X_train.columns = X_train.columns\n",
    "imputed_X_valid.columns = X_valid.columns\n",
    "\n",
    "# Check your answers\n",
    "step_3.a.check()"
   ]
  },
  {
   "cell_type": "code",
   "execution_count": 14,
   "id": "d153ef47",
   "metadata": {
    "execution": {
     "iopub.execute_input": "2021-10-25T03:30:25.373151Z",
     "iopub.status.busy": "2021-10-25T03:30:25.372537Z",
     "iopub.status.idle": "2021-10-25T03:30:25.375631Z",
     "shell.execute_reply": "2021-10-25T03:30:25.376187Z",
     "shell.execute_reply.started": "2021-10-25T03:29:50.613006Z"
    },
    "papermill": {
     "duration": 0.031579,
     "end_time": "2021-10-25T03:30:25.376357",
     "exception": false,
     "start_time": "2021-10-25T03:30:25.344778",
     "status": "completed"
    },
    "tags": []
   },
   "outputs": [],
   "source": [
    "# Lines below will give you a hint or solution code\n",
    "#step_3.a.hint()\n",
    "#step_3.a.solution()"
   ]
  },
  {
   "cell_type": "markdown",
   "id": "f5e79f6c",
   "metadata": {
    "papermill": {
     "duration": 0.024988,
     "end_time": "2021-10-25T03:30:25.426708",
     "exception": false,
     "start_time": "2021-10-25T03:30:25.401720",
     "status": "completed"
    },
    "tags": []
   },
   "source": [
    "Run the next code cell without changes to obtain the MAE for this approach."
   ]
  },
  {
   "cell_type": "code",
   "execution_count": 15,
   "id": "cf273f2c",
   "metadata": {
    "execution": {
     "iopub.execute_input": "2021-10-25T03:30:25.480818Z",
     "iopub.status.busy": "2021-10-25T03:30:25.480197Z",
     "iopub.status.idle": "2021-10-25T03:30:26.808004Z",
     "shell.execute_reply": "2021-10-25T03:30:26.807375Z",
     "shell.execute_reply.started": "2021-10-25T03:29:50.618256Z"
    },
    "papermill": {
     "duration": 1.355764,
     "end_time": "2021-10-25T03:30:26.808181",
     "exception": false,
     "start_time": "2021-10-25T03:30:25.452417",
     "status": "completed"
    },
    "tags": []
   },
   "outputs": [
    {
     "name": "stdout",
     "output_type": "stream",
     "text": [
      "MAE (Imputation):\n",
      "18062.894611872147\n"
     ]
    }
   ],
   "source": [
    "print(\"MAE (Imputation):\")\n",
    "print(score_dataset(imputed_X_train, imputed_X_valid, y_train, y_valid))"
   ]
  },
  {
   "cell_type": "markdown",
   "id": "cc5c017c",
   "metadata": {
    "papermill": {
     "duration": 0.026403,
     "end_time": "2021-10-25T03:30:26.861012",
     "exception": false,
     "start_time": "2021-10-25T03:30:26.834609",
     "status": "completed"
    },
    "tags": []
   },
   "source": [
    "### Part B\n",
    "\n",
    "Compare the MAE from each approach.  Does anything surprise you about the results?  Why do you think one approach performed better than the other?"
   ]
  },
  {
   "cell_type": "code",
   "execution_count": 16,
   "id": "d9dc7adb",
   "metadata": {
    "execution": {
     "iopub.execute_input": "2021-10-25T03:30:26.918492Z",
     "iopub.status.busy": "2021-10-25T03:30:26.917795Z",
     "iopub.status.idle": "2021-10-25T03:30:26.921923Z",
     "shell.execute_reply": "2021-10-25T03:30:26.921358Z",
     "shell.execute_reply.started": "2021-10-25T03:29:51.981502Z"
    },
    "papermill": {
     "duration": 0.035024,
     "end_time": "2021-10-25T03:30:26.922088",
     "exception": false,
     "start_time": "2021-10-25T03:30:26.887064",
     "status": "completed"
    },
    "tags": []
   },
   "outputs": [
    {
     "data": {
      "application/javascript": [
       "parent.postMessage({\"jupyterEvent\": \"custom.exercise_interaction\", \"data\": {\"outcomeType\": 1, \"valueTowardsCompletion\": 1.0, \"interactionType\": 1, \"questionType\": 4, \"questionId\": \"3.2_ImputeThought\", \"learnToolsVersion\": \"0.3.4\", \"failureMessage\": \"\", \"exceptionClass\": \"\", \"trace\": \"\"}}, \"*\")"
      ],
      "text/plain": [
       "<IPython.core.display.Javascript object>"
      ]
     },
     "metadata": {},
     "output_type": "display_data"
    },
    {
     "data": {
      "text/markdown": [
       "<span style=\"color:#33cc33\">Correct:</span> \n",
       "\n",
       "Given that thre are so few missing values in the dataset, we'd expect imputation to perform better than dropping columns entirely.  However, we see that dropping columns performs slightly better!  While this can probably partially be attributed to noise in the dataset, another potential explanation is that the imputation method is not a great match to this dataset.  That is, maybe instead of filling in the mean value, it makes more sense to set every missing value to a value of 0, to fill in the most frequently encountered value, or to use some other method.  For instance, consider the `GarageYrBlt` column (which indicates the year that the garage was built).  It's likely that in some cases, a missing value could indicate a house that does not have a garage.  Does it make more sense to fill in the median value along each column in this case?  Or could we get better results by filling in the minimum value along each column?  It's not quite clear what's best in this case, but perhaps we can rule out some options immediately - for instance, setting missing values in this column to 0 is likely to yield horrible results!"
      ],
      "text/plain": [
       "Correct: \n",
       "\n",
       "Given that thre are so few missing values in the dataset, we'd expect imputation to perform better than dropping columns entirely.  However, we see that dropping columns performs slightly better!  While this can probably partially be attributed to noise in the dataset, another potential explanation is that the imputation method is not a great match to this dataset.  That is, maybe instead of filling in the mean value, it makes more sense to set every missing value to a value of 0, to fill in the most frequently encountered value, or to use some other method.  For instance, consider the `GarageYrBlt` column (which indicates the year that the garage was built).  It's likely that in some cases, a missing value could indicate a house that does not have a garage.  Does it make more sense to fill in the median value along each column in this case?  Or could we get better results by filling in the minimum value along each column?  It's not quite clear what's best in this case, but perhaps we can rule out some options immediately - for instance, setting missing values in this column to 0 is likely to yield horrible results!"
      ]
     },
     "metadata": {},
     "output_type": "display_data"
    }
   ],
   "source": [
    "# Check your answer (Run this code cell to receive credit!)\n",
    "step_3.b.check()"
   ]
  },
  {
   "cell_type": "code",
   "execution_count": 17,
   "id": "f81de16b",
   "metadata": {
    "execution": {
     "iopub.execute_input": "2021-10-25T03:30:27.041068Z",
     "iopub.status.busy": "2021-10-25T03:30:27.040398Z",
     "iopub.status.idle": "2021-10-25T03:30:27.042542Z",
     "shell.execute_reply": "2021-10-25T03:30:27.042990Z",
     "shell.execute_reply.started": "2021-10-25T03:29:51.991001Z"
    },
    "papermill": {
     "duration": 0.033406,
     "end_time": "2021-10-25T03:30:27.043180",
     "exception": false,
     "start_time": "2021-10-25T03:30:27.009774",
     "status": "completed"
    },
    "tags": []
   },
   "outputs": [],
   "source": [
    "#step_3.b.hint()"
   ]
  },
  {
   "cell_type": "markdown",
   "id": "b4a8710d",
   "metadata": {
    "papermill": {
     "duration": 0.026269,
     "end_time": "2021-10-25T03:30:27.097562",
     "exception": false,
     "start_time": "2021-10-25T03:30:27.071293",
     "status": "completed"
    },
    "tags": []
   },
   "source": [
    "# Step 4: Generate test predictions\n",
    "\n",
    "In this final step, you'll use any approach of your choosing to deal with missing values.  Once you've preprocessed the training and validation features, you'll train and evaluate a random forest model.  Then, you'll preprocess the test data before generating predictions that can be submitted to the competition!\n",
    "\n",
    "### Part A\n",
    "\n",
    "Use the next code cell to preprocess the training and validation data.  Set the preprocessed DataFrames to `final_X_train` and `final_X_valid`.  **You can use any approach of your choosing here!**  in order for this step to be marked as correct, you need only ensure:\n",
    "- the preprocessed DataFrames have the same number of columns,\n",
    "- the preprocessed DataFrames have no missing values, \n",
    "- `final_X_train` and `y_train` have the same number of rows, and\n",
    "- `final_X_valid` and `y_valid` have the same number of rows."
   ]
  },
  {
   "cell_type": "code",
   "execution_count": 18,
   "id": "1e05e7c5",
   "metadata": {
    "execution": {
     "iopub.execute_input": "2021-10-25T03:30:27.155940Z",
     "iopub.status.busy": "2021-10-25T03:30:27.155311Z",
     "iopub.status.idle": "2021-10-25T03:30:27.166677Z",
     "shell.execute_reply": "2021-10-25T03:30:27.167224Z",
     "shell.execute_reply.started": "2021-10-25T03:29:51.997911Z"
    },
    "papermill": {
     "duration": 0.04299,
     "end_time": "2021-10-25T03:30:27.167397",
     "exception": false,
     "start_time": "2021-10-25T03:30:27.124407",
     "status": "completed"
    },
    "tags": []
   },
   "outputs": [
    {
     "data": {
      "application/javascript": [
       "parent.postMessage({\"jupyterEvent\": \"custom.exercise_interaction\", \"data\": {\"outcomeType\": 1, \"valueTowardsCompletion\": 1.0, \"interactionType\": 1, \"questionType\": 2, \"questionId\": \"4.1_PredsCodeA\", \"learnToolsVersion\": \"0.3.4\", \"failureMessage\": \"\", \"exceptionClass\": \"\", \"trace\": \"\"}}, \"*\")"
      ],
      "text/plain": [
       "<IPython.core.display.Javascript object>"
      ]
     },
     "metadata": {},
     "output_type": "display_data"
    },
    {
     "data": {
      "text/markdown": [
       "<span style=\"color:#33cc33\">Correct</span>"
      ],
      "text/plain": [
       "Correct"
      ]
     },
     "metadata": {},
     "output_type": "display_data"
    }
   ],
   "source": [
    "# Preprocessed training and validation features\n",
    "final_X_train = reduced_X_train\n",
    "final_X_valid = reduced_X_valid\n",
    "\n",
    "# Check your answers\n",
    "step_4.a.check()"
   ]
  },
  {
   "cell_type": "code",
   "execution_count": 19,
   "id": "a221452a",
   "metadata": {
    "execution": {
     "iopub.execute_input": "2021-10-25T03:30:27.227683Z",
     "iopub.status.busy": "2021-10-25T03:30:27.226619Z",
     "iopub.status.idle": "2021-10-25T03:30:27.228786Z",
     "shell.execute_reply": "2021-10-25T03:30:27.229298Z",
     "shell.execute_reply.started": "2021-10-25T03:29:52.017647Z"
    },
    "papermill": {
     "duration": 0.034741,
     "end_time": "2021-10-25T03:30:27.229476",
     "exception": false,
     "start_time": "2021-10-25T03:30:27.194735",
     "status": "completed"
    },
    "tags": []
   },
   "outputs": [],
   "source": [
    "# Lines below will give you a hint or solution code\n",
    "#step_4.a.hint()\n",
    "#step_4.a.solution()"
   ]
  },
  {
   "cell_type": "markdown",
   "id": "c08868c6",
   "metadata": {
    "papermill": {
     "duration": 0.027122,
     "end_time": "2021-10-25T03:30:27.284147",
     "exception": false,
     "start_time": "2021-10-25T03:30:27.257025",
     "status": "completed"
    },
    "tags": []
   },
   "source": [
    "Run the next code cell to train and evaluate a random forest model.  (*Note that we don't use the `score_dataset()` function above, because we will soon use the trained model to generate test predictions!*)"
   ]
  },
  {
   "cell_type": "code",
   "execution_count": 20,
   "id": "43d5896d",
   "metadata": {
    "execution": {
     "iopub.execute_input": "2021-10-25T03:30:27.346890Z",
     "iopub.status.busy": "2021-10-25T03:30:27.346228Z",
     "iopub.status.idle": "2021-10-25T03:30:28.537502Z",
     "shell.execute_reply": "2021-10-25T03:30:28.536669Z",
     "shell.execute_reply.started": "2021-10-25T03:29:52.025821Z"
    },
    "papermill": {
     "duration": 1.226313,
     "end_time": "2021-10-25T03:30:28.537871",
     "exception": false,
     "start_time": "2021-10-25T03:30:27.311558",
     "status": "completed"
    },
    "tags": []
   },
   "outputs": [
    {
     "name": "stdout",
     "output_type": "stream",
     "text": [
      "MAE (Your approach):\n",
      "17837.82570776256\n"
     ]
    }
   ],
   "source": [
    "# Define and fit model\n",
    "model = RandomForestRegressor(n_estimators=100, random_state=0)\n",
    "model.fit(final_X_train, y_train)\n",
    "\n",
    "# Get validation predictions and MAE\n",
    "preds_valid = model.predict(final_X_valid)\n",
    "print(\"MAE (Your approach):\")\n",
    "print(mean_absolute_error(y_valid, preds_valid))"
   ]
  },
  {
   "cell_type": "markdown",
   "id": "dfd3064b",
   "metadata": {
    "papermill": {
     "duration": 0.027781,
     "end_time": "2021-10-25T03:30:28.594948",
     "exception": false,
     "start_time": "2021-10-25T03:30:28.567167",
     "status": "completed"
    },
    "tags": []
   },
   "source": [
    "### Part B\n",
    "\n",
    "Use the next code cell to preprocess your test data.  Make sure that you use a method that agrees with how you preprocessed the training and validation data, and set the preprocessed test features to `final_X_test`.\n",
    "\n",
    "Then, use the preprocessed test features and the trained model to generate test predictions in `preds_test`.\n",
    "\n",
    "In order for this step to be marked correct, you need only ensure:\n",
    "- the preprocessed test DataFrame has no missing values, and\n",
    "- `final_X_test` has the same number of rows as `X_test`."
   ]
  },
  {
   "cell_type": "code",
   "execution_count": 21,
   "id": "7fed6c28",
   "metadata": {
    "execution": {
     "iopub.execute_input": "2021-10-25T03:30:28.659665Z",
     "iopub.status.busy": "2021-10-25T03:30:28.658948Z",
     "iopub.status.idle": "2021-10-25T03:30:28.703554Z",
     "shell.execute_reply": "2021-10-25T03:30:28.703028Z",
     "shell.execute_reply.started": "2021-10-25T03:29:53.259379Z"
    },
    "papermill": {
     "duration": 0.080925,
     "end_time": "2021-10-25T03:30:28.703696",
     "exception": false,
     "start_time": "2021-10-25T03:30:28.622771",
     "status": "completed"
    },
    "tags": []
   },
   "outputs": [
    {
     "data": {
      "application/javascript": [
       "parent.postMessage({\"jupyterEvent\": \"custom.exercise_interaction\", \"data\": {\"outcomeType\": 1, \"valueTowardsCompletion\": 1.0, \"interactionType\": 1, \"questionType\": 2, \"questionId\": \"4.2_PredsCodeB\", \"learnToolsVersion\": \"0.3.4\", \"failureMessage\": \"\", \"exceptionClass\": \"\", \"trace\": \"\"}}, \"*\")"
      ],
      "text/plain": [
       "<IPython.core.display.Javascript object>"
      ]
     },
     "metadata": {},
     "output_type": "display_data"
    },
    {
     "data": {
      "text/markdown": [
       "<span style=\"color:#33cc33\">Correct</span>"
      ],
      "text/plain": [
       "Correct"
      ]
     },
     "metadata": {},
     "output_type": "display_data"
    }
   ],
   "source": [
    "# Fill in the line below: preprocess test data\n",
    "X_test=X_test.drop(col_mis,axis=1)\n",
    "final_X_test = pd.DataFrame(imp.fit_transform(X_test))\n",
    "# Fill in the line below: get test predictions\n",
    "preds_test = model.predict(final_X_test)\n",
    "\n",
    "# Check your answers\n",
    "step_4.b.check()"
   ]
  },
  {
   "cell_type": "code",
   "execution_count": 22,
   "id": "711f6a1d",
   "metadata": {
    "execution": {
     "iopub.execute_input": "2021-10-25T03:30:28.764465Z",
     "iopub.status.busy": "2021-10-25T03:30:28.763564Z",
     "iopub.status.idle": "2021-10-25T03:30:28.766532Z",
     "shell.execute_reply": "2021-10-25T03:30:28.767086Z",
     "shell.execute_reply.started": "2021-10-25T03:29:53.312782Z"
    },
    "papermill": {
     "duration": 0.035559,
     "end_time": "2021-10-25T03:30:28.767455",
     "exception": false,
     "start_time": "2021-10-25T03:30:28.731896",
     "status": "completed"
    },
    "tags": []
   },
   "outputs": [],
   "source": [
    "# Lines below will give you a hint or solution code\n",
    "#step_4.b.hint()\n",
    "#step_4.b.solution()"
   ]
  },
  {
   "cell_type": "markdown",
   "id": "b60da888",
   "metadata": {
    "papermill": {
     "duration": 0.028357,
     "end_time": "2021-10-25T03:30:28.824322",
     "exception": false,
     "start_time": "2021-10-25T03:30:28.795965",
     "status": "completed"
    },
    "tags": []
   },
   "source": [
    "Run the next code cell without changes to save your results to a CSV file that can be submitted directly to the competition."
   ]
  },
  {
   "cell_type": "code",
   "execution_count": 23,
   "id": "8342259e",
   "metadata": {
    "execution": {
     "iopub.execute_input": "2021-10-25T03:30:28.884977Z",
     "iopub.status.busy": "2021-10-25T03:30:28.883902Z",
     "iopub.status.idle": "2021-10-25T03:30:28.894739Z",
     "shell.execute_reply": "2021-10-25T03:30:28.895298Z",
     "shell.execute_reply.started": "2021-10-25T03:29:53.318864Z"
    },
    "papermill": {
     "duration": 0.042893,
     "end_time": "2021-10-25T03:30:28.895481",
     "exception": false,
     "start_time": "2021-10-25T03:30:28.852588",
     "status": "completed"
    },
    "tags": []
   },
   "outputs": [],
   "source": [
    "# Save test predictions to file\n",
    "output = pd.DataFrame({'Id': X_test.index,\n",
    "                       'SalePrice': preds_test})\n",
    "output.to_csv('submission.csv', index=False)"
   ]
  },
  {
   "cell_type": "markdown",
   "id": "f25b3de2",
   "metadata": {
    "papermill": {
     "duration": 0.028008,
     "end_time": "2021-10-25T03:30:28.951778",
     "exception": false,
     "start_time": "2021-10-25T03:30:28.923770",
     "status": "completed"
    },
    "tags": []
   },
   "source": [
    "# Submit your results\n",
    "\n",
    "Once you have successfully completed Step 4, you're ready to submit your results to the leaderboard!  (_You also learned how to do this in the previous exercise.  If you need a reminder of how to do this, please use the instructions below._)  \n",
    "\n",
    "First, you'll need to join the competition if you haven't already.  So open a new window by clicking on [this link](https://www.kaggle.com/c/home-data-for-ml-course).  Then click on the **Join Competition** button.\n",
    "\n",
    "![join competition image](https://i.imgur.com/wLmFtH3.png)\n",
    "\n",
    "Next, follow the instructions below:\n",
    "1. Begin by clicking on the **Save Version** button in the top right corner of the window.  This will generate a pop-up window.  \n",
    "2. Ensure that the **Save and Run All** option is selected, and then click on the **Save** button.\n",
    "3. This generates a window in the bottom left corner of the notebook.  After it has finished running, click on the number to the right of the **Save Version** button.  This pulls up a list of versions on the right of the screen.  Click on the ellipsis **(...)** to the right of the most recent version, and select **Open in Viewer**.  This brings you into view mode of the same page. You will need to scroll down to get back to these instructions.\n",
    "4. Click on the **Output** tab on the right of the screen.  Then, click on the file you would like to submit, and click on the **Submit** button to submit your results to the leaderboard.\n",
    "\n",
    "You have now successfully submitted to the competition!\n",
    "\n",
    "If you want to keep working to improve your performance, select the **Edit** button in the top right of the screen. Then you can change your code and repeat the process. There's a lot of room to improve, and you will climb up the leaderboard as you work.\n",
    "\n",
    "\n",
    "# Keep going\n",
    "\n",
    "Move on to learn what **[categorical variables](https://www.kaggle.com/alexisbcook/categorical-variables)** are, along with how to incorporate them into your machine learning models.  Categorical variables are very common in real-world data, but you'll get an error if you try to plug them into your models without processing them first!"
   ]
  }
 ],
 "metadata": {
  "kernelspec": {
   "display_name": "Python 3",
   "language": "python",
   "name": "python3"
  },
  "language_info": {
   "codemirror_mode": {
    "name": "ipython",
    "version": 3
   },
   "file_extension": ".py",
   "mimetype": "text/x-python",
   "name": "python",
   "nbconvert_exporter": "python",
   "pygments_lexer": "ipython3",
   "version": "3.7.10"
  },
  "papermill": {
   "default_parameters": {},
   "duration": 16.409616,
   "end_time": "2021-10-25T03:30:29.690247",
   "environment_variables": {},
   "exception": null,
   "input_path": "__notebook__.ipynb",
   "output_path": "__notebook__.ipynb",
   "parameters": {},
   "start_time": "2021-10-25T03:30:13.280631",
   "version": "2.3.3"
  }
 },
 "nbformat": 4,
 "nbformat_minor": 5
}
