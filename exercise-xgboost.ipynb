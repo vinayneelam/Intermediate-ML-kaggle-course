{
 "cells": [
  {
   "cell_type": "markdown",
   "id": "56642b27",
   "metadata": {
    "papermill": {
     "duration": 0.021144,
     "end_time": "2021-11-11T04:15:32.588201",
     "exception": false,
     "start_time": "2021-11-11T04:15:32.567057",
     "status": "completed"
    },
    "tags": []
   },
   "source": [
    "**This notebook is an exercise in the [Intermediate Machine Learning](https://www.kaggle.com/learn/intermediate-machine-learning) course.  You can reference the tutorial at [this link](https://www.kaggle.com/alexisbcook/xgboost).**\n",
    "\n",
    "---\n"
   ]
  },
  {
   "cell_type": "markdown",
   "id": "b4167c14",
   "metadata": {
    "papermill": {
     "duration": 0.016098,
     "end_time": "2021-11-11T04:15:32.622426",
     "exception": false,
     "start_time": "2021-11-11T04:15:32.606328",
     "status": "completed"
    },
    "tags": []
   },
   "source": [
    "In this exercise, you will use your new knowledge to train a model with **gradient boosting**.\n",
    "\n",
    "# Setup\n",
    "\n",
    "The questions below will give you feedback on your work. Run the following cell to set up the feedback system."
   ]
  },
  {
   "cell_type": "code",
   "execution_count": 1,
   "id": "e8e6854e",
   "metadata": {
    "execution": {
     "iopub.execute_input": "2021-11-11T04:15:32.662161Z",
     "iopub.status.busy": "2021-11-11T04:15:32.660955Z",
     "iopub.status.idle": "2021-11-11T04:15:35.071719Z",
     "shell.execute_reply": "2021-11-11T04:15:35.072903Z",
     "shell.execute_reply.started": "2021-11-11T04:03:37.896079Z"
    },
    "papermill": {
     "duration": 2.432174,
     "end_time": "2021-11-11T04:15:35.073302",
     "exception": false,
     "start_time": "2021-11-11T04:15:32.641128",
     "status": "completed"
    },
    "tags": []
   },
   "outputs": [
    {
     "name": "stdout",
     "output_type": "stream",
     "text": [
      "Setup Complete\n"
     ]
    }
   ],
   "source": [
    "# Set up code checking\n",
    "import os\n",
    "if not os.path.exists(\"../input/train.csv\"):\n",
    "    os.symlink(\"../input/home-data-for-ml-course/train.csv\", \"../input/train.csv\")  \n",
    "    os.symlink(\"../input/home-data-for-ml-course/test.csv\", \"../input/test.csv\") \n",
    "from learntools.core import binder\n",
    "binder.bind(globals())\n",
    "from learntools.ml_intermediate.ex6 import *\n",
    "print(\"Setup Complete\")"
   ]
  },
  {
   "cell_type": "markdown",
   "id": "9c448eda",
   "metadata": {
    "papermill": {
     "duration": 0.016596,
     "end_time": "2021-11-11T04:15:35.108271",
     "exception": false,
     "start_time": "2021-11-11T04:15:35.091675",
     "status": "completed"
    },
    "tags": []
   },
   "source": [
    "You will work with the [Housing Prices Competition for Kaggle Learn Users](https://www.kaggle.com/c/home-data-for-ml-course) dataset from the previous exercise. \n",
    "\n",
    "![Ames Housing dataset image](https://i.imgur.com/lTJVG4e.png)\n",
    "\n",
    "Run the next code cell without changes to load the training and validation sets in `X_train`, `X_valid`, `y_train`, and `y_valid`.  The test set is loaded in `X_test`."
   ]
  },
  {
   "cell_type": "code",
   "execution_count": 2,
   "id": "f7253dbc",
   "metadata": {
    "execution": {
     "iopub.execute_input": "2021-11-11T04:15:35.145352Z",
     "iopub.status.busy": "2021-11-11T04:15:35.144684Z",
     "iopub.status.idle": "2021-11-11T04:15:35.443318Z",
     "shell.execute_reply": "2021-11-11T04:15:35.442718Z",
     "shell.execute_reply.started": "2021-11-11T04:03:40.523483Z"
    },
    "papermill": {
     "duration": 0.318415,
     "end_time": "2021-11-11T04:15:35.443462",
     "exception": false,
     "start_time": "2021-11-11T04:15:35.125047",
     "status": "completed"
    },
    "tags": []
   },
   "outputs": [],
   "source": [
    "import pandas as pd\n",
    "from sklearn.model_selection import train_test_split\n",
    "\n",
    "# Read the data\n",
    "X = pd.read_csv('../input/train.csv', index_col='Id')\n",
    "X_test_full = pd.read_csv('../input/test.csv', index_col='Id')\n",
    "\n",
    "# Remove rows with missing target, separate target from predictors\n",
    "X.dropna(axis=0, subset=['SalePrice'], inplace=True)\n",
    "y = X.SalePrice              \n",
    "X.drop(['SalePrice'], axis=1, inplace=True)\n",
    "\n",
    "# Break off validation set from training data\n",
    "X_train_full, X_valid_full, y_train, y_valid = train_test_split(X, y, train_size=0.8, test_size=0.2,\n",
    "                                                                random_state=0)\n",
    "\n",
    "# \"Cardinality\" means the number of unique values in a column\n",
    "# Select categorical columns with relatively low cardinality (convenient but arbitrary)\n",
    "low_cardinality_cols = [cname for cname in X_train_full.columns if X_train_full[cname].nunique() < 10 and \n",
    "                        X_train_full[cname].dtype == \"object\"]\n",
    "\n",
    "# Select numeric columns\n",
    "numeric_cols = [cname for cname in X_train_full.columns if X_train_full[cname].dtype in ['int64', 'float64']]\n",
    "\n",
    "# Keep selected columns only\n",
    "my_cols = low_cardinality_cols + numeric_cols\n",
    "X_train = X_train_full[my_cols].copy()\n",
    "X_valid = X_valid_full[my_cols].copy()\n",
    "X_test = X_test_full[my_cols].copy()\n",
    "\n",
    "# One-hot encode the data (to shorten the code, we use pandas)\n",
    "X_train = pd.get_dummies(X_train)\n",
    "X_valid = pd.get_dummies(X_valid)\n",
    "X_test = pd.get_dummies(X_test)\n",
    "X_train, X_valid = X_train.align(X_valid, join='left', axis=1)\n",
    "X_train, X_test = X_train.align(X_test, join='left', axis=1)"
   ]
  },
  {
   "cell_type": "markdown",
   "id": "a715058d",
   "metadata": {
    "papermill": {
     "duration": 0.016483,
     "end_time": "2021-11-11T04:15:35.476724",
     "exception": false,
     "start_time": "2021-11-11T04:15:35.460241",
     "status": "completed"
    },
    "tags": []
   },
   "source": [
    "# Step 1: Build model\n",
    "\n",
    "### Part A\n",
    "\n",
    "In this step, you'll build and train your first model with gradient boosting.\n",
    "\n",
    "- Begin by setting `my_model_1` to an XGBoost model.  Use the [XGBRegressor](https://xgboost.readthedocs.io/en/latest/python/python_api.html#xgboost.XGBRegressor) class, and set the random seed to 0 (`random_state=0`).  **Leave all other parameters as default.**\n",
    "- Then, fit the model to the training data in `X_train` and `y_train`."
   ]
  },
  {
   "cell_type": "code",
   "execution_count": 3,
   "id": "eebdd1ef",
   "metadata": {
    "execution": {
     "iopub.execute_input": "2021-11-11T04:15:35.513839Z",
     "iopub.status.busy": "2021-11-11T04:15:35.513196Z",
     "iopub.status.idle": "2021-11-11T04:15:36.508897Z",
     "shell.execute_reply": "2021-11-11T04:15:36.509460Z",
     "shell.execute_reply.started": "2021-11-11T04:03:40.851913Z"
    },
    "papermill": {
     "duration": 1.016051,
     "end_time": "2021-11-11T04:15:36.509635",
     "exception": false,
     "start_time": "2021-11-11T04:15:35.493584",
     "status": "completed"
    },
    "tags": []
   },
   "outputs": [
    {
     "data": {
      "application/javascript": [
       "parent.postMessage({\"jupyterEvent\": \"custom.exercise_interaction\", \"data\": {\"outcomeType\": 1, \"valueTowardsCompletion\": 0.5, \"interactionType\": 1, \"questionType\": 2, \"questionId\": \"1.1_Model1A\", \"learnToolsVersion\": \"0.3.4\", \"failureMessage\": \"\", \"exceptionClass\": \"\", \"trace\": \"\"}}, \"*\")"
      ],
      "text/plain": [
       "<IPython.core.display.Javascript object>"
      ]
     },
     "metadata": {},
     "output_type": "display_data"
    },
    {
     "data": {
      "text/markdown": [
       "<span style=\"color:#33cc33\">Correct</span>"
      ],
      "text/plain": [
       "Correct"
      ]
     },
     "metadata": {},
     "output_type": "display_data"
    }
   ],
   "source": [
    "from xgboost import XGBRegressor\n",
    "\n",
    "# Define the model\n",
    "my_model_1 = XGBRegressor(random_state=0)# Your code here\n",
    "\n",
    "# Fit the model\n",
    "my_model_1.fit(X_train,y_train) # Your code here\n",
    "\n",
    "# Check your answer\n",
    "step_1.a.check()"
   ]
  },
  {
   "cell_type": "code",
   "execution_count": 4,
   "id": "1cc19b06",
   "metadata": {
    "execution": {
     "iopub.execute_input": "2021-11-11T04:15:36.551179Z",
     "iopub.status.busy": "2021-11-11T04:15:36.550453Z",
     "iopub.status.idle": "2021-11-11T04:15:36.553278Z",
     "shell.execute_reply": "2021-11-11T04:15:36.552750Z",
     "shell.execute_reply.started": "2021-11-11T04:03:42.009162Z"
    },
    "papermill": {
     "duration": 0.024627,
     "end_time": "2021-11-11T04:15:36.553425",
     "exception": false,
     "start_time": "2021-11-11T04:15:36.528798",
     "status": "completed"
    },
    "tags": []
   },
   "outputs": [],
   "source": [
    "# Lines below will give you a hint or solution code\n",
    "#step_1.a.hint()\n",
    "#step_1.a.solution()"
   ]
  },
  {
   "cell_type": "markdown",
   "id": "6504fa97",
   "metadata": {
    "papermill": {
     "duration": 0.017701,
     "end_time": "2021-11-11T04:15:36.589102",
     "exception": false,
     "start_time": "2021-11-11T04:15:36.571401",
     "status": "completed"
    },
    "tags": []
   },
   "source": [
    "### Part B\n",
    "\n",
    "Set `predictions_1` to the model's predictions for the validation data.  Recall that the validation features are stored in `X_valid`."
   ]
  },
  {
   "cell_type": "code",
   "execution_count": 5,
   "id": "7c6ea538",
   "metadata": {
    "execution": {
     "iopub.execute_input": "2021-11-11T04:15:36.629566Z",
     "iopub.status.busy": "2021-11-11T04:15:36.628523Z",
     "iopub.status.idle": "2021-11-11T04:15:36.661011Z",
     "shell.execute_reply": "2021-11-11T04:15:36.660446Z",
     "shell.execute_reply.started": "2021-11-11T04:03:42.016124Z"
    },
    "papermill": {
     "duration": 0.053573,
     "end_time": "2021-11-11T04:15:36.661168",
     "exception": false,
     "start_time": "2021-11-11T04:15:36.607595",
     "status": "completed"
    },
    "tags": []
   },
   "outputs": [
    {
     "data": {
      "application/javascript": [
       "parent.postMessage({\"jupyterEvent\": \"custom.exercise_interaction\", \"data\": {\"outcomeType\": 1, \"valueTowardsCompletion\": 0.5, \"interactionType\": 1, \"questionType\": 2, \"questionId\": \"1.2_Model1B\", \"learnToolsVersion\": \"0.3.4\", \"failureMessage\": \"\", \"exceptionClass\": \"\", \"trace\": \"\"}}, \"*\")"
      ],
      "text/plain": [
       "<IPython.core.display.Javascript object>"
      ]
     },
     "metadata": {},
     "output_type": "display_data"
    },
    {
     "data": {
      "text/markdown": [
       "<span style=\"color:#33cc33\">Correct</span>"
      ],
      "text/plain": [
       "Correct"
      ]
     },
     "metadata": {},
     "output_type": "display_data"
    }
   ],
   "source": [
    "from sklearn.metrics import mean_absolute_error\n",
    "\n",
    "# Get predictions\n",
    "predictions_1 = my_model_1.predict(X_valid) # Your code here\n",
    "\n",
    "# Check your answer\n",
    "step_1.b.check()"
   ]
  },
  {
   "cell_type": "code",
   "execution_count": 6,
   "id": "323fc343",
   "metadata": {
    "execution": {
     "iopub.execute_input": "2021-11-11T04:15:36.703527Z",
     "iopub.status.busy": "2021-11-11T04:15:36.702907Z",
     "iopub.status.idle": "2021-11-11T04:15:36.705347Z",
     "shell.execute_reply": "2021-11-11T04:15:36.705845Z",
     "shell.execute_reply.started": "2021-11-11T04:03:42.045990Z"
    },
    "papermill": {
     "duration": 0.025129,
     "end_time": "2021-11-11T04:15:36.705998",
     "exception": false,
     "start_time": "2021-11-11T04:15:36.680869",
     "status": "completed"
    },
    "tags": []
   },
   "outputs": [],
   "source": [
    "# Lines below will give you a hint or solution code\n",
    "#step_1.b.hint()\n",
    "#step_1.b.solution()"
   ]
  },
  {
   "cell_type": "markdown",
   "id": "146c0a6e",
   "metadata": {
    "papermill": {
     "duration": 0.01852,
     "end_time": "2021-11-11T04:15:36.743330",
     "exception": false,
     "start_time": "2021-11-11T04:15:36.724810",
     "status": "completed"
    },
    "tags": []
   },
   "source": [
    "### Part C\n",
    "\n",
    "Finally, use the `mean_absolute_error()` function to calculate the mean absolute error (MAE) corresponding to the predictions for the validation set.  Recall that the labels for the validation data are stored in `y_valid`."
   ]
  },
  {
   "cell_type": "code",
   "execution_count": 7,
   "id": "a155e21f",
   "metadata": {
    "execution": {
     "iopub.execute_input": "2021-11-11T04:15:36.784825Z",
     "iopub.status.busy": "2021-11-11T04:15:36.783994Z",
     "iopub.status.idle": "2021-11-11T04:15:36.792233Z",
     "shell.execute_reply": "2021-11-11T04:15:36.792835Z",
     "shell.execute_reply.started": "2021-11-11T04:03:42.051969Z"
    },
    "papermill": {
     "duration": 0.030732,
     "end_time": "2021-11-11T04:15:36.793003",
     "exception": false,
     "start_time": "2021-11-11T04:15:36.762271",
     "status": "completed"
    },
    "tags": []
   },
   "outputs": [
    {
     "name": "stdout",
     "output_type": "stream",
     "text": [
      "Mean Absolute Error: 17662.736729452055\n"
     ]
    },
    {
     "data": {
      "application/javascript": [
       "parent.postMessage({\"jupyterEvent\": \"custom.exercise_interaction\", \"data\": {\"outcomeType\": 1, \"valueTowardsCompletion\": 0.5, \"interactionType\": 1, \"questionType\": 2, \"questionId\": \"1.3_Model1C\", \"learnToolsVersion\": \"0.3.4\", \"failureMessage\": \"\", \"exceptionClass\": \"\", \"trace\": \"\"}}, \"*\")"
      ],
      "text/plain": [
       "<IPython.core.display.Javascript object>"
      ]
     },
     "metadata": {},
     "output_type": "display_data"
    },
    {
     "data": {
      "text/markdown": [
       "<span style=\"color:#33cc33\">Correct</span>"
      ],
      "text/plain": [
       "Correct"
      ]
     },
     "metadata": {},
     "output_type": "display_data"
    }
   ],
   "source": [
    "# Calculate MAE\n",
    "mae_1 = mean_absolute_error(predictions_1,y_valid) # Your code here\n",
    "\n",
    "# Uncomment to print MAE\n",
    "print(\"Mean Absolute Error:\" , mae_1)\n",
    "\n",
    "# Check your answer\n",
    "step_1.c.check()"
   ]
  },
  {
   "cell_type": "code",
   "execution_count": 8,
   "id": "470b3f23",
   "metadata": {
    "execution": {
     "iopub.execute_input": "2021-11-11T04:15:36.836516Z",
     "iopub.status.busy": "2021-11-11T04:15:36.835707Z",
     "iopub.status.idle": "2021-11-11T04:15:36.839507Z",
     "shell.execute_reply": "2021-11-11T04:15:36.838965Z",
     "shell.execute_reply.started": "2021-11-11T04:03:42.072671Z"
    },
    "papermill": {
     "duration": 0.026688,
     "end_time": "2021-11-11T04:15:36.839650",
     "exception": false,
     "start_time": "2021-11-11T04:15:36.812962",
     "status": "completed"
    },
    "tags": []
   },
   "outputs": [],
   "source": [
    "# Lines below will give you a hint or solution code\n",
    "#step_1.c.hint()\n",
    "#step_1.c.solution()"
   ]
  },
  {
   "cell_type": "markdown",
   "id": "aa4bd873",
   "metadata": {
    "papermill": {
     "duration": 0.019636,
     "end_time": "2021-11-11T04:15:36.879290",
     "exception": false,
     "start_time": "2021-11-11T04:15:36.859654",
     "status": "completed"
    },
    "tags": []
   },
   "source": [
    "# Step 2: Improve the model\n",
    "\n",
    "Now that you've trained a default model as baseline, it's time to tinker with the parameters, to see if you can get better performance!\n",
    "- Begin by setting `my_model_2` to an XGBoost model, using the [XGBRegressor](https://xgboost.readthedocs.io/en/latest/python/python_api.html#xgboost.XGBRegressor) class.  Use what you learned in the previous tutorial to figure out how to change the default parameters (like `n_estimators` and `learning_rate`) to get better results.\n",
    "- Then, fit the model to the training data in `X_train` and `y_train`.\n",
    "- Set `predictions_2` to the model's predictions for the validation data.  Recall that the validation features are stored in `X_valid`.\n",
    "- Finally, use the `mean_absolute_error()` function to calculate the mean absolute error (MAE) corresponding to the predictions on the validation set.  Recall that the labels for the validation data are stored in `y_valid`.\n",
    "\n",
    "In order for this step to be marked correct, your model in `my_model_2` must attain lower MAE than the model in `my_model_1`. "
   ]
  },
  {
   "cell_type": "code",
   "execution_count": 9,
   "id": "aaa29fc2",
   "metadata": {
    "execution": {
     "iopub.execute_input": "2021-11-11T04:15:36.922307Z",
     "iopub.status.busy": "2021-11-11T04:15:36.921686Z",
     "iopub.status.idle": "2021-11-11T04:15:41.352796Z",
     "shell.execute_reply": "2021-11-11T04:15:41.353822Z",
     "shell.execute_reply.started": "2021-11-11T04:09:18.492965Z"
    },
    "papermill": {
     "duration": 4.454834,
     "end_time": "2021-11-11T04:15:41.354001",
     "exception": false,
     "start_time": "2021-11-11T04:15:36.899167",
     "status": "completed"
    },
    "tags": []
   },
   "outputs": [
    {
     "name": "stdout",
     "output_type": "stream",
     "text": [
      "[0]\tvalidation_0-rmse:190309.28125\n",
      "[1]\tvalidation_0-rmse:181580.92188\n",
      "[2]\tvalidation_0-rmse:173377.75000\n",
      "[3]\tvalidation_0-rmse:165566.65625\n",
      "[4]\tvalidation_0-rmse:158257.42188\n",
      "[5]\tvalidation_0-rmse:151197.42188\n",
      "[6]\tvalidation_0-rmse:144560.06250\n",
      "[7]\tvalidation_0-rmse:138040.31250\n",
      "[8]\tvalidation_0-rmse:131965.82812\n",
      "[9]\tvalidation_0-rmse:126296.07031\n",
      "[10]\tvalidation_0-rmse:120776.16406\n",
      "[11]\tvalidation_0-rmse:115432.46094\n",
      "[12]\tvalidation_0-rmse:110737.27344\n",
      "[13]\tvalidation_0-rmse:106009.87500\n",
      "[14]\tvalidation_0-rmse:101745.64844\n",
      "[15]\tvalidation_0-rmse:97546.42188\n",
      "[16]\tvalidation_0-rmse:93823.50000\n",
      "[17]\tvalidation_0-rmse:90271.52344\n",
      "[18]\tvalidation_0-rmse:86875.27344\n",
      "[19]\tvalidation_0-rmse:83674.83594\n",
      "[20]\tvalidation_0-rmse:80660.31250\n",
      "[21]\tvalidation_0-rmse:77843.10938\n",
      "[22]\tvalidation_0-rmse:75228.12500\n",
      "[23]\tvalidation_0-rmse:72756.50000\n",
      "[24]\tvalidation_0-rmse:70473.10156\n",
      "[25]\tvalidation_0-rmse:68028.10156\n",
      "[26]\tvalidation_0-rmse:65990.36719\n",
      "[27]\tvalidation_0-rmse:64018.04688\n",
      "[28]\tvalidation_0-rmse:62036.74219\n",
      "[29]\tvalidation_0-rmse:60086.34375\n",
      "[30]\tvalidation_0-rmse:58495.95703\n",
      "[31]\tvalidation_0-rmse:56855.00781\n",
      "[32]\tvalidation_0-rmse:55310.38672\n",
      "[33]\tvalidation_0-rmse:53747.23828\n",
      "[34]\tvalidation_0-rmse:52577.71875\n",
      "[35]\tvalidation_0-rmse:51164.88672\n",
      "[36]\tvalidation_0-rmse:50135.95703\n",
      "[37]\tvalidation_0-rmse:49052.99219\n",
      "[38]\tvalidation_0-rmse:48172.56641\n",
      "[39]\tvalidation_0-rmse:47233.10156\n",
      "[40]\tvalidation_0-rmse:46413.99219\n",
      "[41]\tvalidation_0-rmse:45715.59375\n",
      "[42]\tvalidation_0-rmse:45075.17188\n",
      "[43]\tvalidation_0-rmse:44368.63281\n",
      "[44]\tvalidation_0-rmse:43740.30859\n",
      "[45]\tvalidation_0-rmse:43198.73047\n",
      "[46]\tvalidation_0-rmse:42687.53516\n",
      "[47]\tvalidation_0-rmse:42165.46484\n",
      "[48]\tvalidation_0-rmse:41742.30078\n",
      "[49]\tvalidation_0-rmse:41314.52734\n",
      "[50]\tvalidation_0-rmse:40912.02344\n",
      "[51]\tvalidation_0-rmse:40578.45703\n",
      "[52]\tvalidation_0-rmse:40135.35547\n",
      "[53]\tvalidation_0-rmse:39812.59766\n",
      "[54]\tvalidation_0-rmse:39552.57031\n",
      "[55]\tvalidation_0-rmse:39151.50000\n",
      "[56]\tvalidation_0-rmse:38884.50000\n",
      "[57]\tvalidation_0-rmse:38517.07031\n",
      "[58]\tvalidation_0-rmse:38220.00000\n",
      "[59]\tvalidation_0-rmse:38030.26953\n",
      "[60]\tvalidation_0-rmse:37749.97266\n",
      "[61]\tvalidation_0-rmse:37582.37500\n",
      "[62]\tvalidation_0-rmse:37383.68359\n",
      "[63]\tvalidation_0-rmse:37241.63672\n",
      "[64]\tvalidation_0-rmse:37057.30078\n",
      "[65]\tvalidation_0-rmse:36952.50000\n",
      "[66]\tvalidation_0-rmse:36783.47266\n",
      "[67]\tvalidation_0-rmse:36672.97266\n",
      "[68]\tvalidation_0-rmse:36564.72266\n",
      "[69]\tvalidation_0-rmse:36382.50391\n",
      "[70]\tvalidation_0-rmse:36297.64062\n",
      "[71]\tvalidation_0-rmse:36132.00781\n",
      "[72]\tvalidation_0-rmse:36059.39844\n",
      "[73]\tvalidation_0-rmse:35906.76562\n",
      "[74]\tvalidation_0-rmse:35765.69141\n",
      "[75]\tvalidation_0-rmse:35693.17188\n",
      "[76]\tvalidation_0-rmse:35558.73047\n",
      "[77]\tvalidation_0-rmse:35447.77344\n",
      "[78]\tvalidation_0-rmse:35320.82422\n",
      "[79]\tvalidation_0-rmse:35220.38281\n",
      "[80]\tvalidation_0-rmse:35108.00781\n",
      "[81]\tvalidation_0-rmse:35020.15625\n",
      "[82]\tvalidation_0-rmse:34905.44141\n",
      "[83]\tvalidation_0-rmse:34807.67969\n",
      "[84]\tvalidation_0-rmse:34706.99609\n",
      "[85]\tvalidation_0-rmse:34605.14453\n",
      "[86]\tvalidation_0-rmse:34575.68750\n",
      "[87]\tvalidation_0-rmse:34502.43359\n",
      "[88]\tvalidation_0-rmse:34475.04688\n",
      "[89]\tvalidation_0-rmse:34390.65234\n",
      "[90]\tvalidation_0-rmse:34301.41016\n",
      "[91]\tvalidation_0-rmse:34214.35547\n",
      "[92]\tvalidation_0-rmse:34220.12109\n",
      "[93]\tvalidation_0-rmse:34132.69922\n",
      "[94]\tvalidation_0-rmse:34147.07422\n",
      "[95]\tvalidation_0-rmse:34129.37500\n",
      "[96]\tvalidation_0-rmse:34048.60938\n",
      "[97]\tvalidation_0-rmse:34036.41016\n",
      "[98]\tvalidation_0-rmse:33961.57031\n",
      "[99]\tvalidation_0-rmse:33945.41797\n",
      "[100]\tvalidation_0-rmse:33881.32812\n",
      "[101]\tvalidation_0-rmse:33819.75781\n",
      "[102]\tvalidation_0-rmse:33762.46875\n",
      "[103]\tvalidation_0-rmse:33687.84375\n",
      "[104]\tvalidation_0-rmse:33657.92578\n",
      "[105]\tvalidation_0-rmse:33604.57031\n",
      "[106]\tvalidation_0-rmse:33562.46875\n",
      "[107]\tvalidation_0-rmse:33504.75391\n",
      "[108]\tvalidation_0-rmse:33482.04297\n",
      "[109]\tvalidation_0-rmse:33437.53906\n",
      "[110]\tvalidation_0-rmse:33431.07031\n",
      "[111]\tvalidation_0-rmse:33394.17578\n",
      "[112]\tvalidation_0-rmse:33346.67578\n",
      "[113]\tvalidation_0-rmse:33309.74219\n",
      "[114]\tvalidation_0-rmse:33295.42188\n",
      "[115]\tvalidation_0-rmse:33280.08594\n",
      "[116]\tvalidation_0-rmse:33275.77734\n",
      "[117]\tvalidation_0-rmse:33267.41797\n",
      "[118]\tvalidation_0-rmse:33262.13672\n",
      "[119]\tvalidation_0-rmse:33246.12109\n",
      "[120]\tvalidation_0-rmse:33241.26562\n",
      "[121]\tvalidation_0-rmse:33215.92578\n",
      "[122]\tvalidation_0-rmse:33218.37500\n",
      "[123]\tvalidation_0-rmse:33201.56641\n",
      "[124]\tvalidation_0-rmse:33166.91797\n",
      "[125]\tvalidation_0-rmse:33170.74609\n",
      "[126]\tvalidation_0-rmse:33189.55859\n",
      "[127]\tvalidation_0-rmse:33158.84766\n",
      "[128]\tvalidation_0-rmse:33127.34375\n",
      "[129]\tvalidation_0-rmse:33127.54688\n",
      "[130]\tvalidation_0-rmse:33114.08594\n",
      "[131]\tvalidation_0-rmse:33089.90234\n",
      "[132]\tvalidation_0-rmse:33072.12109\n",
      "[133]\tvalidation_0-rmse:33051.03906\n",
      "[134]\tvalidation_0-rmse:33027.87891\n",
      "[135]\tvalidation_0-rmse:33018.88672\n",
      "[136]\tvalidation_0-rmse:33013.17578\n",
      "[137]\tvalidation_0-rmse:33019.77344\n",
      "[138]\tvalidation_0-rmse:33015.83594\n",
      "[139]\tvalidation_0-rmse:32999.12109\n",
      "[140]\tvalidation_0-rmse:32993.99609\n",
      "[141]\tvalidation_0-rmse:32963.94531\n",
      "[142]\tvalidation_0-rmse:32960.81641\n",
      "[143]\tvalidation_0-rmse:32961.35156\n",
      "[144]\tvalidation_0-rmse:32965.42578\n",
      "[145]\tvalidation_0-rmse:32944.40625\n",
      "[146]\tvalidation_0-rmse:32941.67188\n",
      "[147]\tvalidation_0-rmse:32921.95703\n",
      "[148]\tvalidation_0-rmse:32912.15625\n",
      "[149]\tvalidation_0-rmse:32909.01562\n",
      "[150]\tvalidation_0-rmse:32896.79688\n",
      "[151]\tvalidation_0-rmse:32887.90234\n",
      "[152]\tvalidation_0-rmse:32881.08203\n",
      "[153]\tvalidation_0-rmse:32884.93750\n",
      "[154]\tvalidation_0-rmse:32866.45703\n",
      "[155]\tvalidation_0-rmse:32857.57422\n",
      "[156]\tvalidation_0-rmse:32853.71094\n",
      "[157]\tvalidation_0-rmse:32848.78516\n",
      "[158]\tvalidation_0-rmse:32837.71094\n",
      "[159]\tvalidation_0-rmse:32835.90234\n",
      "[160]\tvalidation_0-rmse:32826.76172\n",
      "[161]\tvalidation_0-rmse:32799.82422\n",
      "[162]\tvalidation_0-rmse:32790.89453\n",
      "[163]\tvalidation_0-rmse:32773.92969\n",
      "[164]\tvalidation_0-rmse:32767.15820\n",
      "[165]\tvalidation_0-rmse:32760.91797\n",
      "[166]\tvalidation_0-rmse:32761.60352\n",
      "[167]\tvalidation_0-rmse:32750.72070\n",
      "[168]\tvalidation_0-rmse:32750.55469\n",
      "[169]\tvalidation_0-rmse:32734.04688\n",
      "[170]\tvalidation_0-rmse:32734.27148\n",
      "[171]\tvalidation_0-rmse:32728.68555\n",
      "[172]\tvalidation_0-rmse:32717.90820\n",
      "[173]\tvalidation_0-rmse:32718.58984\n",
      "[174]\tvalidation_0-rmse:32709.81641\n",
      "[175]\tvalidation_0-rmse:32689.42969\n",
      "[176]\tvalidation_0-rmse:32674.01758\n",
      "[177]\tvalidation_0-rmse:32662.62891\n",
      "[178]\tvalidation_0-rmse:32656.54102\n",
      "[179]\tvalidation_0-rmse:32645.64258\n",
      "[180]\tvalidation_0-rmse:32638.09766\n",
      "[181]\tvalidation_0-rmse:32630.01172\n",
      "[182]\tvalidation_0-rmse:32629.16406\n",
      "[183]\tvalidation_0-rmse:32619.08594\n",
      "[184]\tvalidation_0-rmse:32608.64453\n",
      "[185]\tvalidation_0-rmse:32602.22852\n",
      "[186]\tvalidation_0-rmse:32592.40820\n",
      "[187]\tvalidation_0-rmse:32585.49219\n",
      "[188]\tvalidation_0-rmse:32588.74219\n",
      "[189]\tvalidation_0-rmse:32580.72070\n",
      "[190]\tvalidation_0-rmse:32583.21875\n",
      "[191]\tvalidation_0-rmse:32583.53906\n",
      "[192]\tvalidation_0-rmse:32584.53906\n",
      "[193]\tvalidation_0-rmse:32582.28516\n",
      "[194]\tvalidation_0-rmse:32571.69336\n",
      "[195]\tvalidation_0-rmse:32561.22656\n",
      "[196]\tvalidation_0-rmse:32559.17383\n",
      "[197]\tvalidation_0-rmse:32554.33008\n",
      "[198]\tvalidation_0-rmse:32552.84375\n",
      "[199]\tvalidation_0-rmse:32548.28320\n",
      "[200]\tvalidation_0-rmse:32552.05664\n",
      "[201]\tvalidation_0-rmse:32552.92969\n",
      "[202]\tvalidation_0-rmse:32551.40430\n",
      "[203]\tvalidation_0-rmse:32546.49609\n",
      "[204]\tvalidation_0-rmse:32541.10547\n",
      "[205]\tvalidation_0-rmse:32539.38086\n",
      "[206]\tvalidation_0-rmse:32539.02344\n",
      "[207]\tvalidation_0-rmse:32538.48438\n",
      "[208]\tvalidation_0-rmse:32541.25391\n",
      "[209]\tvalidation_0-rmse:32540.94531\n",
      "[210]\tvalidation_0-rmse:32536.00781\n",
      "[211]\tvalidation_0-rmse:32539.01562\n",
      "[212]\tvalidation_0-rmse:32537.40820\n",
      "[213]\tvalidation_0-rmse:32536.12891\n",
      "[214]\tvalidation_0-rmse:32531.56055\n",
      "[215]\tvalidation_0-rmse:32528.05273\n",
      "[216]\tvalidation_0-rmse:32530.81836\n",
      "[217]\tvalidation_0-rmse:32528.20898\n",
      "[218]\tvalidation_0-rmse:32532.53125\n",
      "[219]\tvalidation_0-rmse:32530.52539\n",
      "[220]\tvalidation_0-rmse:32528.23828\n",
      "Mean Absolute Error: 16802.965325342466\n"
     ]
    },
    {
     "data": {
      "application/javascript": [
       "parent.postMessage({\"jupyterEvent\": \"custom.exercise_interaction\", \"data\": {\"outcomeType\": 1, \"valueTowardsCompletion\": 0.5, \"interactionType\": 1, \"questionType\": 2, \"questionId\": \"2_Model2\", \"learnToolsVersion\": \"0.3.4\", \"failureMessage\": \"\", \"exceptionClass\": \"\", \"trace\": \"\"}}, \"*\")"
      ],
      "text/plain": [
       "<IPython.core.display.Javascript object>"
      ]
     },
     "metadata": {},
     "output_type": "display_data"
    },
    {
     "data": {
      "text/markdown": [
       "<span style=\"color:#33cc33\">Correct</span>"
      ],
      "text/plain": [
       "Correct"
      ]
     },
     "metadata": {},
     "output_type": "display_data"
    }
   ],
   "source": [
    "# Define the model\n",
    "my_model_2 = XGBRegressor(n_estimators=1000,learning_rate=0.05) # Your code here\n",
    "\n",
    "# Fit the model\n",
    "my_model_2.fit(X_train,y_train,early_stopping_rounds=5,eval_set=[(X_valid,y_valid)]) # Your code here\n",
    "\n",
    "# Get predictions\n",
    "predictions_2 = my_model_2.predict(X_valid) # Your code here\n",
    "\n",
    "# Calculate MAE\n",
    "mae_2 = mean_absolute_error(predictions_2,y_valid) # Your code here\n",
    "\n",
    "# Uncomment to print MAE\n",
    "print(\"Mean Absolute Error:\" , mae_2)\n",
    "\n",
    "# Check your answer\n",
    "step_2.check()"
   ]
  },
  {
   "cell_type": "code",
   "execution_count": 10,
   "id": "430ab881",
   "metadata": {
    "execution": {
     "iopub.execute_input": "2021-11-11T04:15:41.537419Z",
     "iopub.status.busy": "2021-11-11T04:15:41.536363Z",
     "iopub.status.idle": "2021-11-11T04:15:41.538528Z",
     "shell.execute_reply": "2021-11-11T04:15:41.539027Z",
     "shell.execute_reply.started": "2021-11-11T04:03:45.443143Z"
    },
    "papermill": {
     "duration": 0.094832,
     "end_time": "2021-11-11T04:15:41.539193",
     "exception": false,
     "start_time": "2021-11-11T04:15:41.444361",
     "status": "completed"
    },
    "tags": []
   },
   "outputs": [],
   "source": [
    "# Lines below will give you a hint or solution code\n",
    "#step_2.hint()\n",
    "#step_2.solution()"
   ]
  },
  {
   "cell_type": "markdown",
   "id": "b47d37b0",
   "metadata": {
    "papermill": {
     "duration": 0.088783,
     "end_time": "2021-11-11T04:15:41.715684",
     "exception": false,
     "start_time": "2021-11-11T04:15:41.626901",
     "status": "completed"
    },
    "tags": []
   },
   "source": [
    "# Step 3: Break the model\n",
    "\n",
    "In this step, you will create a model that performs worse than the original model in Step 1.  This will help you to develop your intuition for how to set parameters.  You might even find that you accidentally get better performance, which is ultimately a nice problem to have and a valuable learning experience!\n",
    "- Begin by setting `my_model_3` to an XGBoost model, using the [XGBRegressor](https://xgboost.readthedocs.io/en/latest/python/python_api.html#xgboost.XGBRegressor) class.  Use what you learned in the previous tutorial to figure out how to change the default parameters (like `n_estimators` and `learning_rate`) to design a model to get high MAE.\n",
    "- Then, fit the model to the training data in `X_train` and `y_train`.\n",
    "- Set `predictions_3` to the model's predictions for the validation data.  Recall that the validation features are stored in `X_valid`.\n",
    "- Finally, use the `mean_absolute_error()` function to calculate the mean absolute error (MAE) corresponding to the predictions on the validation set.  Recall that the labels for the validation data are stored in `y_valid`.\n",
    "\n",
    "In order for this step to be marked correct, your model in `my_model_3` must attain higher MAE than the model in `my_model_1`. "
   ]
  },
  {
   "cell_type": "code",
   "execution_count": 11,
   "id": "46820104",
   "metadata": {
    "execution": {
     "iopub.execute_input": "2021-11-11T04:15:41.895704Z",
     "iopub.status.busy": "2021-11-11T04:15:41.894665Z",
     "iopub.status.idle": "2021-11-11T04:15:42.036432Z",
     "shell.execute_reply": "2021-11-11T04:15:42.037115Z",
     "shell.execute_reply.started": "2021-11-11T04:03:45.449769Z"
    },
    "papermill": {
     "duration": 0.233268,
     "end_time": "2021-11-11T04:15:42.037306",
     "exception": false,
     "start_time": "2021-11-11T04:15:41.804038",
     "status": "completed"
    },
    "tags": []
   },
   "outputs": [
    {
     "name": "stdout",
     "output_type": "stream",
     "text": [
      "Mean Absolute Error: 20568.527838720034\n"
     ]
    },
    {
     "data": {
      "application/javascript": [
       "parent.postMessage({\"jupyterEvent\": \"custom.exercise_interaction\", \"data\": {\"outcomeType\": 1, \"valueTowardsCompletion\": 0.5, \"interactionType\": 1, \"questionType\": 2, \"questionId\": \"3_Model3\", \"learnToolsVersion\": \"0.3.4\", \"failureMessage\": \"\", \"exceptionClass\": \"\", \"trace\": \"\"}}, \"*\")"
      ],
      "text/plain": [
       "<IPython.core.display.Javascript object>"
      ]
     },
     "metadata": {},
     "output_type": "display_data"
    },
    {
     "data": {
      "text/markdown": [
       "<span style=\"color:#33cc33\">Correct</span>"
      ],
      "text/plain": [
       "Correct"
      ]
     },
     "metadata": {},
     "output_type": "display_data"
    }
   ],
   "source": [
    "# Define the model\n",
    "my_model_3 = XGBRegressor(n_estimators=10,learning_rate=0.5)\n",
    "\n",
    "# Fit the model\n",
    "my_model_3.fit(X_train,y_train)# Your code here\n",
    "\n",
    "# Get predictions\n",
    "predictions_3 = my_model_3.predict(X_valid)\n",
    "\n",
    "# Calculate MAE\n",
    "mae_3 = mean_absolute_error(predictions_3,y_valid)\n",
    "\n",
    "# Uncomment to print MAE\n",
    "print(\"Mean Absolute Error:\" , mae_3)\n",
    "\n",
    "# Check your answer\n",
    "step_3.check()"
   ]
  },
  {
   "cell_type": "code",
   "execution_count": 12,
   "id": "757c8bf2",
   "metadata": {
    "execution": {
     "iopub.execute_input": "2021-11-11T04:15:42.282562Z",
     "iopub.status.busy": "2021-11-11T04:15:42.281499Z",
     "iopub.status.idle": "2021-11-11T04:15:42.284906Z",
     "shell.execute_reply": "2021-11-11T04:15:42.284321Z",
     "shell.execute_reply.started": "2021-11-11T04:03:45.615757Z"
    },
    "papermill": {
     "duration": 0.156436,
     "end_time": "2021-11-11T04:15:42.285063",
     "exception": false,
     "start_time": "2021-11-11T04:15:42.128627",
     "status": "completed"
    },
    "tags": []
   },
   "outputs": [],
   "source": [
    "# Lines below will give you a hint or solution code\n",
    "#step_3.hint()\n",
    "#step_3.solution()"
   ]
  },
  {
   "cell_type": "code",
   "execution_count": 13,
   "id": "2aca2bde",
   "metadata": {
    "execution": {
     "iopub.execute_input": "2021-11-11T04:15:42.467895Z",
     "iopub.status.busy": "2021-11-11T04:15:42.467291Z",
     "iopub.status.idle": "2021-11-11T04:15:42.485132Z",
     "shell.execute_reply": "2021-11-11T04:15:42.485735Z",
     "shell.execute_reply.started": "2021-11-11T04:12:09.749035Z"
    },
    "papermill": {
     "duration": 0.111398,
     "end_time": "2021-11-11T04:15:42.485940",
     "exception": false,
     "start_time": "2021-11-11T04:15:42.374542",
     "status": "completed"
    },
    "tags": []
   },
   "outputs": [],
   "source": [
    "preds_test=my_model_2.predict(X_test)\n"
   ]
  },
  {
   "cell_type": "code",
   "execution_count": 14,
   "id": "e7374908",
   "metadata": {
    "execution": {
     "iopub.execute_input": "2021-11-11T04:15:42.677311Z",
     "iopub.status.busy": "2021-11-11T04:15:42.676660Z",
     "iopub.status.idle": "2021-11-11T04:15:42.685936Z",
     "shell.execute_reply": "2021-11-11T04:15:42.686404Z"
    },
    "papermill": {
     "duration": 0.105189,
     "end_time": "2021-11-11T04:15:42.686584",
     "exception": false,
     "start_time": "2021-11-11T04:15:42.581395",
     "status": "completed"
    },
    "tags": []
   },
   "outputs": [],
   "source": [
    "output = pd.DataFrame({'Id': X_test.index,\n",
    "                       'SalePrice': preds_test})\n",
    "output.to_csv('submission.csv', index=False)"
   ]
  },
  {
   "cell_type": "markdown",
   "id": "1363a426",
   "metadata": {
    "papermill": {
     "duration": 0.090478,
     "end_time": "2021-11-11T04:15:42.866287",
     "exception": false,
     "start_time": "2021-11-11T04:15:42.775809",
     "status": "completed"
    },
    "tags": []
   },
   "source": [
    "# Keep going\n",
    "\n",
    "Continue to learn about **[data leakage](https://www.kaggle.com/alexisbcook/data-leakage)**.  This is an important issue for a data scientist to understand, and it has the potential to ruin your models in subtle and dangerous ways!"
   ]
  }
 ],
 "metadata": {
  "kernelspec": {
   "display_name": "Python 3",
   "language": "python",
   "name": "python3"
  },
  "language_info": {
   "codemirror_mode": {
    "name": "ipython",
    "version": 3
   },
   "file_extension": ".py",
   "mimetype": "text/x-python",
   "name": "python",
   "nbconvert_exporter": "python",
   "pygments_lexer": "ipython3",
   "version": "3.7.10"
  },
  "papermill": {
   "default_parameters": {},
   "duration": 20.05606,
   "end_time": "2021-11-11T04:15:43.665756",
   "environment_variables": {},
   "exception": null,
   "input_path": "__notebook__.ipynb",
   "output_path": "__notebook__.ipynb",
   "parameters": {},
   "start_time": "2021-11-11T04:15:23.609696",
   "version": "2.3.3"
  }
 },
 "nbformat": 4,
 "nbformat_minor": 5
}
